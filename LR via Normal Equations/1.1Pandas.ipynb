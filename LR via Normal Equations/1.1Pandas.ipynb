{
 "cells": [
  {
   "cell_type": "markdown",
   "metadata": {},
   "source": [
    "# Exercise 1.1 Pandas\n",
    "\n",
    "Importing the required libraries"
   ]
  },
  {
   "cell_type": "code",
   "execution_count": 1,
   "metadata": {},
   "outputs": [],
   "source": [
    "import pandas as pd\n",
    "import numpy as np\n",
    "import matplotlib.pyplot as plt\n",
    "import scipy.linalg\n",
    "import warnings\n",
    "warnings.filterwarnings('ignore')"
   ]
  },
  {
   "cell_type": "markdown",
   "metadata": {},
   "source": [
    "### Load data\n",
    "To load the data into dataframe from the .csv file"
   ]
  },
  {
   "cell_type": "code",
   "execution_count": 2,
   "metadata": {
    "scrolled": true
   },
   "outputs": [
    {
     "data": {
      "text/html": [
       "<div>\n",
       "<style scoped>\n",
       "    .dataframe tbody tr th:only-of-type {\n",
       "        vertical-align: middle;\n",
       "    }\n",
       "\n",
       "    .dataframe tbody tr th {\n",
       "        vertical-align: top;\n",
       "    }\n",
       "\n",
       "    .dataframe thead th {\n",
       "        text-align: right;\n",
       "    }\n",
       "</style>\n",
       "<table border=\"1\" class=\"dataframe\">\n",
       "  <thead>\n",
       "    <tr style=\"text-align: right;\">\n",
       "      <th></th>\n",
       "      <th>Unnamed: 0</th>\n",
       "      <th>ID</th>\n",
       "      <th>Name</th>\n",
       "      <th>Price</th>\n",
       "      <th>Pumps</th>\n",
       "      <th>Interior</th>\n",
       "      <th>Restaurant</th>\n",
       "      <th>CarWash</th>\n",
       "      <th>Highway</th>\n",
       "      <th>Intersection</th>\n",
       "      <th>Stoplight</th>\n",
       "      <th>IntersectionStoplight</th>\n",
       "      <th>Gasolines</th>\n",
       "      <th>Competitors</th>\n",
       "      <th>Zipcode</th>\n",
       "      <th>Address</th>\n",
       "      <th>Income</th>\n",
       "      <th>Brand</th>\n",
       "    </tr>\n",
       "  </thead>\n",
       "  <tbody>\n",
       "    <tr>\n",
       "      <th>0</th>\n",
       "      <td>1</td>\n",
       "      <td>1</td>\n",
       "      <td>Shell</td>\n",
       "      <td>1.79</td>\n",
       "      <td>4</td>\n",
       "      <td>Y</td>\n",
       "      <td>N</td>\n",
       "      <td>N</td>\n",
       "      <td>N</td>\n",
       "      <td>Y</td>\n",
       "      <td>N</td>\n",
       "      <td>Intersection</td>\n",
       "      <td>3</td>\n",
       "      <td>N</td>\n",
       "      <td>78705</td>\n",
       "      <td>3201 N Lamar Blvd</td>\n",
       "      <td>12786</td>\n",
       "      <td>Shell</td>\n",
       "    </tr>\n",
       "    <tr>\n",
       "      <th>1</th>\n",
       "      <td>2</td>\n",
       "      <td>2</td>\n",
       "      <td>Valero</td>\n",
       "      <td>1.83</td>\n",
       "      <td>4</td>\n",
       "      <td>Y</td>\n",
       "      <td>N</td>\n",
       "      <td>N</td>\n",
       "      <td>N</td>\n",
       "      <td>Y</td>\n",
       "      <td>N</td>\n",
       "      <td>Intersection</td>\n",
       "      <td>3</td>\n",
       "      <td>N</td>\n",
       "      <td>78705</td>\n",
       "      <td>3515 N Lamar Blvd</td>\n",
       "      <td>12786</td>\n",
       "      <td>Other</td>\n",
       "    </tr>\n",
       "    <tr>\n",
       "      <th>2</th>\n",
       "      <td>3</td>\n",
       "      <td>3</td>\n",
       "      <td>7-Eleven</td>\n",
       "      <td>1.88</td>\n",
       "      <td>4</td>\n",
       "      <td>Y</td>\n",
       "      <td>N</td>\n",
       "      <td>N</td>\n",
       "      <td>N</td>\n",
       "      <td>Y</td>\n",
       "      <td>Y</td>\n",
       "      <td>Both</td>\n",
       "      <td>3</td>\n",
       "      <td>Y</td>\n",
       "      <td>78751</td>\n",
       "      <td>5101 N Lamar Blvd</td>\n",
       "      <td>41279</td>\n",
       "      <td>Other</td>\n",
       "    </tr>\n",
       "    <tr>\n",
       "      <th>3</th>\n",
       "      <td>4</td>\n",
       "      <td>4</td>\n",
       "      <td>Texaco</td>\n",
       "      <td>1.88</td>\n",
       "      <td>4</td>\n",
       "      <td>Y</td>\n",
       "      <td>N</td>\n",
       "      <td>Y</td>\n",
       "      <td>N</td>\n",
       "      <td>Y</td>\n",
       "      <td>Y</td>\n",
       "      <td>Both</td>\n",
       "      <td>4</td>\n",
       "      <td>Y</td>\n",
       "      <td>78751</td>\n",
       "      <td>5301 N Lamar Blvd</td>\n",
       "      <td>41279</td>\n",
       "      <td>Chevron-Texaco</td>\n",
       "    </tr>\n",
       "    <tr>\n",
       "      <th>4</th>\n",
       "      <td>5</td>\n",
       "      <td>5</td>\n",
       "      <td>Shell</td>\n",
       "      <td>1.84</td>\n",
       "      <td>6</td>\n",
       "      <td>Y</td>\n",
       "      <td>N</td>\n",
       "      <td>N</td>\n",
       "      <td>N</td>\n",
       "      <td>Y</td>\n",
       "      <td>Y</td>\n",
       "      <td>Both</td>\n",
       "      <td>3</td>\n",
       "      <td>N</td>\n",
       "      <td>78751</td>\n",
       "      <td>5630 N Lamar Blvd</td>\n",
       "      <td>41279</td>\n",
       "      <td>Shell</td>\n",
       "    </tr>\n",
       "  </tbody>\n",
       "</table>\n",
       "</div>"
      ],
      "text/plain": [
       "   Unnamed: 0  ID      Name  Price  Pumps Interior Restaurant CarWash Highway  \\\n",
       "0           1   1     Shell   1.79      4        Y          N       N       N   \n",
       "1           2   2    Valero   1.83      4        Y          N       N       N   \n",
       "2           3   3  7-Eleven   1.88      4        Y          N       N       N   \n",
       "3           4   4    Texaco   1.88      4        Y          N       Y       N   \n",
       "4           5   5     Shell   1.84      6        Y          N       N       N   \n",
       "\n",
       "  Intersection Stoplight IntersectionStoplight  Gasolines Competitors  \\\n",
       "0            Y         N          Intersection          3           N   \n",
       "1            Y         N          Intersection          3           N   \n",
       "2            Y         Y                  Both          3           Y   \n",
       "3            Y         Y                  Both          4           Y   \n",
       "4            Y         Y                  Both          3           N   \n",
       "\n",
       "   Zipcode            Address  Income           Brand  \n",
       "0    78705  3201 N Lamar Blvd   12786           Shell  \n",
       "1    78705  3515 N Lamar Blvd   12786           Other  \n",
       "2    78751  5101 N Lamar Blvd   41279           Other  \n",
       "3    78751  5301 N Lamar Blvd   41279  Chevron-Texaco  \n",
       "4    78751  5630 N Lamar Blvd   41279           Shell  "
      ]
     },
     "execution_count": 2,
     "metadata": {},
     "output_type": "execute_result"
    }
   ],
   "source": [
    "data = pd.read_csv(\"GasPrices.csv\")\n",
    "data.head()"
   ]
  },
  {
   "cell_type": "markdown",
   "metadata": {},
   "source": [
    "###  "
   ]
  },
  {
   "cell_type": "markdown",
   "metadata": {},
   "source": [
    "###  "
   ]
  },
  {
   "cell_type": "markdown",
   "metadata": {},
   "source": [
    "###  "
   ]
  },
  {
   "cell_type": "markdown",
   "metadata": {},
   "source": [
    "###  "
   ]
  },
  {
   "cell_type": "markdown",
   "metadata": {},
   "source": [
    "###  "
   ]
  },
  {
   "cell_type": "markdown",
   "metadata": {},
   "source": [
    "### Summarize numeric values\n",
    "This cell summarizes the sum, mean, standard deviation of Price, pumps, gasolines and income"
   ]
  },
  {
   "cell_type": "code",
   "execution_count": 22,
   "metadata": {},
   "outputs": [
    {
     "name": "stdout",
     "output_type": "stream",
     "text": [
      "Price:\n",
      "Mean: 1.864 \t\tSum: 188.29 \tStandard Deviation: 0.081 \n",
      "Min: 1.73 \t\tMax: 2.09\n",
      "\n",
      "Pumps:\n",
      "Mean: 6.95 \t\tSum: 702 \tStandard Deviation: 3.906 \n",
      "Min: 2 \t\tMax: 24\n",
      "\n",
      "Income:\n",
      "Mean: 56727.218 \tSum: 5729449 \tStandard Deviation: 25739.98 \n",
      "Min: 12786 \t\tMax: 128556\n",
      "\n",
      "Gasolines:\n",
      "Mean: 3.465 \t\tSum: 350 \tStandard Deviation: 0.555 \n",
      "Min: 1 \t\tMax: 4\n"
     ]
    }
   ],
   "source": [
    "Price_mean = round(np.mean(data[\"Price\"]),3)\n",
    "Price_sum = np.sum(data[\"Price\"])\n",
    "Price_sd = np.std(data[\"Price\"])\n",
    "Price_min = np.min(data[\"Price\"])\n",
    "Price_max = np.max(data[\"Price\"])\n",
    "print(\"Price:\\nMean:\",round(Price_mean,3),\"\\t\\tSum:\",round(Price_sum,3),\"\\tStandard Deviation:\",round(Price_sd,3),\"\\nMin:\",round(Price_min,3),\"\\t\\tMax:\",round(Price_max,3))\n",
    "Pumps_mean = np.mean(data[\"Pumps\"])\n",
    "Pumps_sum = np.sum(data[\"Pumps\"])\n",
    "Pumps_sd = np.std(data[\"Pumps\"])\n",
    "Pumps_min = np.min(data[\"Pumps\"])\n",
    "Pumps_max = np.max(data[\"Pumps\"])\n",
    "print(\"\\nPumps:\\nMean:\",round(Pumps_mean,3),\"\\t\\tSum:\",round(Pumps_sum,3),\"\\tStandard Deviation:\",round(Pumps_sd,3),\"\\nMin:\",round(Pumps_min,3),\"\\t\\tMax:\",round(Pumps_max,3))\n",
    "Income_mean = np.mean(data[\"Income\"])\n",
    "Income_sum = np.sum(data[\"Income\"])\n",
    "Income_sd = np.std(data[\"Income\"])\n",
    "Income_min = np.min(data[\"Income\"])\n",
    "Income_max = np.max(data[\"Income\"])\n",
    "print(\"\\nIncome:\\nMean:\",round(Income_mean,3),\"\\tSum:\",round(Income_sum,3),\"\\tStandard Deviation:\",round(Income_sd,3),\"\\nMin:\",round(Income_min,3),\"\\t\\tMax:\",round(Income_max,3))\n",
    "Gasoline_mean = np.mean(data[\"Gasolines\"])\n",
    "Gasoline_sum = np.sum(data[\"Gasolines\"])\n",
    "Gasoline_sd = np.std(data[\"Gasolines\"])\n",
    "Gasoline_min = np.min(data[\"Gasolines\"])\n",
    "Gasoline_max = np.max(data[\"Gasolines\"])\n",
    "print(\"\\nGasolines:\\nMean:\",round(Gasoline_mean,3),\"\\t\\tSum:\",round(Gasoline_sum,3),\"\\tStandard Deviation:\",round(Gasoline_sd,3),\"\\nMin:\",round(Gasoline_min,3),\"\\t\\tMax:\",round(Gasoline_max,3))"
   ]
  },
  {
   "cell_type": "markdown",
   "metadata": {},
   "source": [
    "### Group field by name\n",
    "This cell sorts the data in ascending order inorder to compute the mean of price of income per brand"
   ]
  },
  {
   "cell_type": "code",
   "execution_count": 9,
   "metadata": {
    "scrolled": true
   },
   "outputs": [],
   "source": [
    "Data_sorted = data.sort_values('Name')\n",
    "Data_sorted = Data_sorted.reset_index(drop = True)"
   ]
  },
  {
   "cell_type": "code",
   "execution_count": 10,
   "metadata": {},
   "outputs": [
    {
     "data": {
      "text/html": [
       "<div>\n",
       "<style scoped>\n",
       "    .dataframe tbody tr th:only-of-type {\n",
       "        vertical-align: middle;\n",
       "    }\n",
       "\n",
       "    .dataframe tbody tr th {\n",
       "        vertical-align: top;\n",
       "    }\n",
       "\n",
       "    .dataframe thead th {\n",
       "        text-align: right;\n",
       "    }\n",
       "</style>\n",
       "<table border=\"1\" class=\"dataframe\">\n",
       "  <thead>\n",
       "    <tr style=\"text-align: right;\">\n",
       "      <th></th>\n",
       "      <th>Unnamed: 0</th>\n",
       "      <th>ID</th>\n",
       "      <th>Name</th>\n",
       "      <th>Price</th>\n",
       "      <th>Pumps</th>\n",
       "      <th>Interior</th>\n",
       "      <th>Restaurant</th>\n",
       "      <th>CarWash</th>\n",
       "      <th>Highway</th>\n",
       "      <th>Intersection</th>\n",
       "      <th>Stoplight</th>\n",
       "      <th>IntersectionStoplight</th>\n",
       "      <th>Gasolines</th>\n",
       "      <th>Competitors</th>\n",
       "      <th>Zipcode</th>\n",
       "      <th>Address</th>\n",
       "      <th>Income</th>\n",
       "      <th>Brand</th>\n",
       "    </tr>\n",
       "  </thead>\n",
       "  <tbody>\n",
       "    <tr>\n",
       "      <th>0</th>\n",
       "      <td>101</td>\n",
       "      <td>101</td>\n",
       "      <td>7-Eleven</td>\n",
       "      <td>1.95</td>\n",
       "      <td>4</td>\n",
       "      <td>Y</td>\n",
       "      <td>N</td>\n",
       "      <td>N</td>\n",
       "      <td>N</td>\n",
       "      <td>Y</td>\n",
       "      <td>Y</td>\n",
       "      <td>Both</td>\n",
       "      <td>3</td>\n",
       "      <td>N</td>\n",
       "      <td>78703</td>\n",
       "      <td>717 North Lamar</td>\n",
       "      <td>81903</td>\n",
       "      <td>Other</td>\n",
       "    </tr>\n",
       "    <tr>\n",
       "      <th>1</th>\n",
       "      <td>14</td>\n",
       "      <td>14</td>\n",
       "      <td>7-Eleven</td>\n",
       "      <td>1.95</td>\n",
       "      <td>4</td>\n",
       "      <td>Y</td>\n",
       "      <td>N</td>\n",
       "      <td>N</td>\n",
       "      <td>N</td>\n",
       "      <td>Y</td>\n",
       "      <td>Y</td>\n",
       "      <td>Both</td>\n",
       "      <td>3</td>\n",
       "      <td>N</td>\n",
       "      <td>78701</td>\n",
       "      <td>1814 Guadalupe St</td>\n",
       "      <td>87306</td>\n",
       "      <td>Other</td>\n",
       "    </tr>\n",
       "    <tr>\n",
       "      <th>2</th>\n",
       "      <td>50</td>\n",
       "      <td>50</td>\n",
       "      <td>7-Eleven</td>\n",
       "      <td>1.79</td>\n",
       "      <td>4</td>\n",
       "      <td>Y</td>\n",
       "      <td>N</td>\n",
       "      <td>N</td>\n",
       "      <td>N</td>\n",
       "      <td>Y</td>\n",
       "      <td>Y</td>\n",
       "      <td>Both</td>\n",
       "      <td>3</td>\n",
       "      <td>Y</td>\n",
       "      <td>78741</td>\n",
       "      <td>1705 S Lakeshore Blvd</td>\n",
       "      <td>31192</td>\n",
       "      <td>Other</td>\n",
       "    </tr>\n",
       "    <tr>\n",
       "      <th>3</th>\n",
       "      <td>12</td>\n",
       "      <td>12</td>\n",
       "      <td>7-Eleven</td>\n",
       "      <td>1.97</td>\n",
       "      <td>4</td>\n",
       "      <td>Y</td>\n",
       "      <td>N</td>\n",
       "      <td>N</td>\n",
       "      <td>N</td>\n",
       "      <td>Y</td>\n",
       "      <td>Y</td>\n",
       "      <td>Both</td>\n",
       "      <td>3</td>\n",
       "      <td>N</td>\n",
       "      <td>78705</td>\n",
       "      <td>2600 Guadalupe St</td>\n",
       "      <td>12786</td>\n",
       "      <td>Other</td>\n",
       "    </tr>\n",
       "    <tr>\n",
       "      <th>4</th>\n",
       "      <td>25</td>\n",
       "      <td>25</td>\n",
       "      <td>7-Eleven</td>\n",
       "      <td>1.84</td>\n",
       "      <td>6</td>\n",
       "      <td>Y</td>\n",
       "      <td>N</td>\n",
       "      <td>N</td>\n",
       "      <td>N</td>\n",
       "      <td>Y</td>\n",
       "      <td>Y</td>\n",
       "      <td>Both</td>\n",
       "      <td>4</td>\n",
       "      <td>N</td>\n",
       "      <td>78702</td>\n",
       "      <td>863 Airport Blvd</td>\n",
       "      <td>37690</td>\n",
       "      <td>Other</td>\n",
       "    </tr>\n",
       "  </tbody>\n",
       "</table>\n",
       "</div>"
      ],
      "text/plain": [
       "   Unnamed: 0   ID      Name  Price  Pumps Interior Restaurant CarWash  \\\n",
       "0         101  101  7-Eleven   1.95      4        Y          N       N   \n",
       "1          14   14  7-Eleven   1.95      4        Y          N       N   \n",
       "2          50   50  7-Eleven   1.79      4        Y          N       N   \n",
       "3          12   12  7-Eleven   1.97      4        Y          N       N   \n",
       "4          25   25  7-Eleven   1.84      6        Y          N       N   \n",
       "\n",
       "  Highway Intersection Stoplight IntersectionStoplight  Gasolines Competitors  \\\n",
       "0       N            Y         Y                  Both          3           N   \n",
       "1       N            Y         Y                  Both          3           N   \n",
       "2       N            Y         Y                  Both          3           Y   \n",
       "3       N            Y         Y                  Both          3           N   \n",
       "4       N            Y         Y                  Both          4           N   \n",
       "\n",
       "   Zipcode                Address  Income  Brand  \n",
       "0    78703        717 North Lamar   81903  Other  \n",
       "1    78701      1814 Guadalupe St   87306  Other  \n",
       "2    78741  1705 S Lakeshore Blvd   31192  Other  \n",
       "3    78705      2600 Guadalupe St   12786  Other  \n",
       "4    78702       863 Airport Blvd   37690  Other  "
      ]
     },
     "execution_count": 10,
     "metadata": {},
     "output_type": "execute_result"
    }
   ],
   "source": [
    "Data_sorted.head()"
   ]
  },
  {
   "cell_type": "markdown",
   "metadata": {},
   "source": [
    "### Find average price, average pumps and average income\n",
    "To find the average price, average number of pumps and average income of the brands"
   ]
  },
  {
   "cell_type": "code",
   "execution_count": 11,
   "metadata": {},
   "outputs": [],
   "source": [
    "meandata = pd.DataFrame(columns = ['Name','AvgPrice','AvgPumps','AvgIncome'],index=range(0,20) )\n",
    "meandata.AvgPrice = meandata.AvgPrice.astype(float)\n",
    "meandata.AvgPumps = meandata.AvgPumps.astype(float)\n",
    "meandata.AvgIncome = meandata.AvgIncome.astype(float)\n",
    "meandata = meandata.fillna(0)\n",
    "oldname = None\n",
    "index = 0\n",
    "for i in range(0,len(Data_sorted)):\n",
    "    name = Data_sorted.Name[i]\n",
    "    if oldname != name:\n",
    "        meandata.Name[index] = name\n",
    "        meandata.AvgPrice[index] = round(np.mean(Data_sorted.loc[Data_sorted.Name == name].Price),2)\n",
    "        meandata.AvgPumps[index] = round(np.mean(Data_sorted.loc[Data_sorted.Name == name].Pumps),2)\n",
    "        meandata.AvgIncome[index] = round(np.mean(Data_sorted.loc[Data_sorted.Name == name].Income),2)\n",
    "        oldname = name\n",
    "        index+=1\n"
   ]
  },
  {
   "cell_type": "code",
   "execution_count": 12,
   "metadata": {},
   "outputs": [
    {
     "data": {
      "text/html": [
       "<div>\n",
       "<style scoped>\n",
       "    .dataframe tbody tr th:only-of-type {\n",
       "        vertical-align: middle;\n",
       "    }\n",
       "\n",
       "    .dataframe tbody tr th {\n",
       "        vertical-align: top;\n",
       "    }\n",
       "\n",
       "    .dataframe thead th {\n",
       "        text-align: right;\n",
       "    }\n",
       "</style>\n",
       "<table border=\"1\" class=\"dataframe\">\n",
       "  <thead>\n",
       "    <tr style=\"text-align: right;\">\n",
       "      <th></th>\n",
       "      <th>Name</th>\n",
       "      <th>AvgPrice</th>\n",
       "      <th>AvgPumps</th>\n",
       "      <th>AvgIncome</th>\n",
       "    </tr>\n",
       "  </thead>\n",
       "  <tbody>\n",
       "    <tr>\n",
       "      <th>0</th>\n",
       "      <td>7-Eleven</td>\n",
       "      <td>1.89</td>\n",
       "      <td>4.67</td>\n",
       "      <td>53432.33</td>\n",
       "    </tr>\n",
       "    <tr>\n",
       "      <th>1</th>\n",
       "      <td>Around the Corner Store</td>\n",
       "      <td>1.94</td>\n",
       "      <td>2.00</td>\n",
       "      <td>63750.00</td>\n",
       "    </tr>\n",
       "    <tr>\n",
       "      <th>2</th>\n",
       "      <td>Chevron</td>\n",
       "      <td>1.87</td>\n",
       "      <td>8.73</td>\n",
       "      <td>61754.64</td>\n",
       "    </tr>\n",
       "    <tr>\n",
       "      <th>3</th>\n",
       "      <td>Citgo</td>\n",
       "      <td>1.84</td>\n",
       "      <td>4.00</td>\n",
       "      <td>49387.00</td>\n",
       "    </tr>\n",
       "    <tr>\n",
       "      <th>4</th>\n",
       "      <td>Conoco</td>\n",
       "      <td>1.89</td>\n",
       "      <td>4.00</td>\n",
       "      <td>43545.50</td>\n",
       "    </tr>\n",
       "  </tbody>\n",
       "</table>\n",
       "</div>"
      ],
      "text/plain": [
       "                      Name  AvgPrice  AvgPumps  AvgIncome\n",
       "0                 7-Eleven      1.89      4.67   53432.33\n",
       "1  Around the Corner Store      1.94      2.00   63750.00\n",
       "2                  Chevron      1.87      8.73   61754.64\n",
       "3                    Citgo      1.84      4.00   49387.00\n",
       "4                   Conoco      1.89      4.00   43545.50"
      ]
     },
     "execution_count": 12,
     "metadata": {},
     "output_type": "execute_result"
    }
   ],
   "source": [
    "meandata.head()"
   ]
  },
  {
   "cell_type": "markdown",
   "metadata": {},
   "source": [
    "### Boxplot data\n",
    "To plot the boxplot for visualizing statistical information between the variables"
   ]
  },
  {
   "cell_type": "code",
   "execution_count": 13,
   "metadata": {},
   "outputs": [
    {
     "data": {
      "image/png": "[encoded data removed]",
      "text/plain": [
       "<Figure size 432x288 with 1 Axes>"
      ]
     },
     "metadata": {
      "needs_background": "light"
     },
     "output_type": "display_data"
    }
   ],
   "source": [
    "plt.xlabel(\"Count\")\n",
    "plt.ylabel(\"Price\")\n",
    "plt.title(\"Boxplot for Price\")\n",
    "plt.boxplot(Data_sorted.Price)\n",
    "plt.show()"
   ]
  },
  {
   "cell_type": "code",
   "execution_count": 14,
   "metadata": {},
   "outputs": [
    {
     "data": {
      "image/png": "[encoded data removed]",
      "text/plain": [
       "<Figure size 432x288 with 1 Axes>"
      ]
     },
     "metadata": {
      "needs_background": "light"
     },
     "output_type": "display_data"
    }
   ],
   "source": [
    "plt.xlabel(\"Count\")\n",
    "plt.ylabel(\"Pumps\")\n",
    "plt.title(\"Boxplot for Pumps\")\n",
    "plt.boxplot(Data_sorted.Pumps)\n",
    "plt.show()"
   ]
  },
  {
   "cell_type": "code",
   "execution_count": 15,
   "metadata": {},
   "outputs": [
    {
     "data": {
      "image/png": "[encoded data removed]",
      "text/plain": [
       "<Figure size 432x288 with 1 Axes>"
      ]
     },
     "metadata": {
      "needs_background": "light"
     },
     "output_type": "display_data"
    }
   ],
   "source": [
    "plt.xlabel(\"Count\")\n",
    "plt.ylabel(\"Income\")\n",
    "plt.title(\"Boxplot for Income\")\n",
    "plt.boxplot(Data_sorted.Income)\n",
    "plt.show()"
   ]
  },
  {
   "cell_type": "code",
   "execution_count": 16,
   "metadata": {
    "scrolled": false
   },
   "outputs": [
    {
     "data": {
      "image/png": "[encoded data removed]",
      "text/plain": [
       "<Figure size 432x288 with 1 Axes>"
      ]
     },
     "metadata": {
      "needs_background": "light"
     },
     "output_type": "display_data"
    }
   ],
   "source": [
    "plt.xlabel(\"Count\")\n",
    "plt.ylabel(\"Value\")\n",
    "plt.title(\"Combined Boxplot for Price, Pumps and Income\")\n",
    "boxdata = [Data_sorted.Price,Data_sorted.Pumps,Data_sorted.Income]\n",
    "plt.boxplot(boxdata)\n",
    "plt.show()"
   ]
  },
  {
   "cell_type": "markdown",
   "metadata": {},
   "source": [
    "### Predicting line\n",
    "Predicting the target value from the set of parameters learned using least squares method"
   ]
  },
  {
   "cell_type": "code",
   "execution_count": 17,
   "metadata": {
    "scrolled": false
   },
   "outputs": [
    {
     "name": "stdout",
     "output_type": "stream",
     "text": [
      "Parameters:\n",
      "\n",
      "β0: -177642.807 \tβ1: 125717.63 \n",
      "\n"
     ]
    }
   ],
   "source": [
    "A = np.vstack([Data_sorted.Price, np.ones(len(Data_sorted.Price))]).T\n",
    "y = np.ones((len(Data_sorted),1))\n",
    "y[:,0] = Data_sorted.Income\n",
    "b1,b0 = np.linalg.lstsq(A,y)[0]\n",
    "print(\"Parameters:\\n\\nβ0:\",round(b0[0],3),\"\\tβ1:\",round(b1[0],3),\"\\n\")"
   ]
  },
  {
   "cell_type": "code",
   "execution_count": 18,
   "metadata": {},
   "outputs": [
    {
     "data": {
      "image/png": "[encoded data removed]",
      "text/plain": [
       "<Figure size 432x288 with 1 Axes>"
      ]
     },
     "metadata": {
      "needs_background": "light"
     },
     "output_type": "display_data"
    }
   ],
   "source": [
    "plt.plot(A[:,0],y,\".\")\n",
    "t = np.arange(1.70,2.15,0.02)\n",
    "plt.plot(t,b0+b1*t,'r')\n",
    "plt.xlabel(\"Price\")\n",
    "plt.ylabel(\"Income\")\n",
    "plt.title(\"Prediction Line for Price vs Income\")\n",
    "plt.show()"
   ]
  },
  {
   "cell_type": "markdown",
   "metadata": {},
   "source": [
    "### Normalize\n",
    "Inorder to overcome noises, we normalize the income and predict the target values again"
   ]
  },
  {
   "cell_type": "code",
   "execution_count": 19,
   "metadata": {
    "scrolled": false
   },
   "outputs": [
    {
     "name": "stdout",
     "output_type": "stream",
     "text": [
      "\n",
      "\n",
      "Parameters:\n",
      "\n",
      "β0: -0.284 \tβ1: 0.201 \n",
      "\n"
     ]
    }
   ],
   "source": [
    "total = 0\n",
    "for i in range (0,len(y)):\n",
    "    total+= pow(y[i],2)\n",
    "norm_val = pow(total,0.5)\n",
    "y = y/norm_val\n",
    "b1,b0 = np.linalg.lstsq(A,y)[0]\n",
    "print(\"\\n\\nParameters:\\n\\nβ0:\",round(b0[0],3),\"\\tβ1:\",round(b1[0],3),\"\\n\")"
   ]
  },
  {
   "cell_type": "code",
   "execution_count": 20,
   "metadata": {},
   "outputs": [
    {
     "data": {
      "image/png": "[encoded data removed]",
      "text/plain": [
       "<Figure size 432x288 with 1 Axes>"
      ]
     },
     "metadata": {
      "needs_background": "light"
     },
     "output_type": "display_data"
    }
   ],
   "source": [
    "plt.plot(A[:,0],y,\".\")\n",
    "t = np.arange(1.70,2.15,0.02)\n",
    "plt.plot(t,b0+b1*t,'r')\n",
    "plt.xlabel(\"Price\")\n",
    "plt.ylabel(\"Income\")\n",
    "plt.title(\"Prediction Line for Price vs Normalized Income\")\n",
    "plt.show()"
   ]
  },
  {
   "cell_type": "code",
   "execution_count": null,
   "metadata": {},
   "outputs": [],
   "source": []
  }
 ],
 "metadata": {
  "kernelspec": {
   "display_name": "Python 3",
   "language": "python",
   "name": "python3"
  },
  "language_info": {
   "codemirror_mode": {
    "name": "ipython",
    "version": 3
   },
   "file_extension": ".py",
   "mimetype": "text/x-python",
   "name": "python",
   "nbconvert_exporter": "python",
   "pygments_lexer": "ipython3",
   "version": "3.5.4"
  }
 },
 "nbformat": 4,
 "nbformat_minor": 2
}
