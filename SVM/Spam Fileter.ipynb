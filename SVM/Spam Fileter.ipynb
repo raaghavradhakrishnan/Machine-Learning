{
 "cells": [
  {
   "cell_type": "markdown",
   "metadata": {},
   "source": [
    "# Exercise 9"
   ]
  },
  {
   "cell_type": "code",
   "execution_count": 92,
   "metadata": {},
   "outputs": [],
   "source": [
    "import pandas as pd\n",
    "import numpy as np\n",
    "from svmutil import *\n",
    "from collections import Counter\n",
    "import matplotlib.pyplot as plt\n",
    "from sklearn.feature_extraction.text import TfidfVectorizer\n",
    "from sklearn.svm import SVC\n",
    "from sklearn.pipeline import Pipeline\n",
    "from sklearn.model_selection import GridSearchCV\n",
    "from sklearn.metrics import classification_report\n",
    "from nltk.corpus import stopwords"
   ]
  },
  {
   "cell_type": "markdown",
   "metadata": {},
   "source": [
    "## SVM classification using libsvm:"
   ]
  },
  {
   "cell_type": "code",
   "execution_count": 9,
   "metadata": {
    "scrolled": true
   },
   "outputs": [],
   "source": [
    "data = pd.read_csv(\"Spambase D3/spambase.data\",header=None)"
   ]
  },
  {
   "cell_type": "markdown",
   "metadata": {},
   "source": [
    "## To convert the data into libsvm format:"
   ]
  },
  {
   "cell_type": "code",
   "execution_count": 1,
   "metadata": {},
   "outputs": [],
   "source": [
    "def svm_format(data):\n",
    "    data = np.array(data)\n",
    "    file = open(\"d3.File\",\"w\")\n",
    "    for i in data:\n",
    "        if i[-1] == 1:\n",
    "            file.write(\"+1 \")\n",
    "        else:\n",
    "            file.write(\"-1 \")\n",
    "        for j in range(len(i)-2):\n",
    "            if i[j] != 0:\n",
    "                file.write(str(j+1)+\":\"+str(i[j])+\" \")\n",
    "\n",
    "        file.write(\"\\n\")\n",
    "    file.close()"
   ]
  },
  {
   "cell_type": "markdown",
   "metadata": {},
   "source": [
    "### To check if the dataset format is correct:"
   ]
  },
  {
   "cell_type": "markdown",
   "metadata": {},
   "source": [
    "\\begin{align}\\\\\n",
    "{python\\     checkdataset.py\\     d3.File} \\\\\\\\\n",
    "\\end{align}"
   ]
  },
  {
   "cell_type": "markdown",
   "metadata": {},
   "source": [
    "## Train, Validation and Test split:"
   ]
  },
  {
   "cell_type": "markdown",
   "metadata": {},
   "source": [
    "For splitting the data into train,validation, the following command was used in the python console to use the file \"subset.py\"\n",
    "\n",
    "\\begin{align}\\\\\n",
    "{python\\     subset.py\\     d3.File\\     900\\     Test.File\\     Train.File} \\\\\\\\\n",
    "{python\\     subset.py\\     Train.File\\     700\\     Val.File\\     Train.File} \\\\\n",
    "\\end{align}"
   ]
  },
  {
   "cell_type": "markdown",
   "metadata": {},
   "source": [
    "## To build a Spam filter using libsvm:"
   ]
  },
  {
   "cell_type": "code",
   "execution_count": 18,
   "metadata": {
    "scrolled": true
   },
   "outputs": [
    {
     "name": "stdout",
     "output_type": "stream",
     "text": [
      "C:  0.2\n",
      "Accuracy = 76.8571% (538/700) (classification)\n",
      "C:  0.4\n",
      "Accuracy = 78.4286% (549/700) (classification)\n",
      "C:  0.6\n",
      "Accuracy = 79.8571% (559/700) (classification)\n",
      "C:  0.8\n",
      "Accuracy = 81% (567/700) (classification)\n",
      "C:  1.0\n",
      "Accuracy = 82.7143% (579/700) (classification)\n",
      "C:  1.2\n",
      "Accuracy = 83% (581/700) (classification)\n",
      "C:  1.4\n",
      "Accuracy = 83.2857% (583/700) (classification)\n",
      "C:  1.6\n",
      "Accuracy = 83.4286% (584/700) (classification)\n",
      "C:  1.8\n",
      "Accuracy = 83.8571% (587/700) (classification)\n",
      "C:  2.0\n",
      "Accuracy = 83.4286% (584/700) (classification)\n",
      "C:  2.2\n",
      "Accuracy = 83.2857% (583/700) (classification)\n",
      "C:  2.4\n",
      "Accuracy = 83.4286% (584/700) (classification)\n",
      "C:  2.6\n",
      "Accuracy = 83.7143% (586/700) (classification)\n",
      "C:  2.8\n",
      "Accuracy = 83.5714% (585/700) (classification)\n",
      "C:  3.0\n",
      "Accuracy = 83.4286% (584/700) (classification)\n",
      "C:  3.2\n",
      "Accuracy = 83.4286% (584/700) (classification)\n",
      "C:  3.4\n",
      "Accuracy = 83.4286% (584/700) (classification)\n",
      "C:  3.6\n",
      "Accuracy = 83.4286% (584/700) (classification)\n",
      "C:  3.8\n",
      "Accuracy = 83.5714% (585/700) (classification)\n",
      "C:  4.0\n",
      "Accuracy = 83.5714% (585/700) (classification)\n",
      "C:  4.2\n",
      "Accuracy = 83.5714% (585/700) (classification)\n",
      "C:  4.4\n",
      "Accuracy = 83.8571% (587/700) (classification)\n",
      "C:  4.6\n",
      "Accuracy = 83.8571% (587/700) (classification)\n",
      "C:  4.8\n",
      "Accuracy = 83.7143% (586/700) (classification)\n",
      "C:  5.0\n",
      "Accuracy = 83.5714% (585/700) (classification)\n",
      "C:  5.2\n",
      "Accuracy = 83.7143% (586/700) (classification)\n",
      "C:  5.4\n",
      "Accuracy = 83.7143% (586/700) (classification)\n",
      "C:  5.6\n",
      "Accuracy = 83.7143% (586/700) (classification)\n",
      "C:  5.8\n",
      "Accuracy = 83.5714% (585/700) (classification)\n",
      "C:  6.0\n",
      "Accuracy = 83.5714% (585/700) (classification)\n",
      "C:  6.2\n",
      "Accuracy = 83.4286% (584/700) (classification)\n",
      "C:  6.4\n",
      "Accuracy = 83.4286% (584/700) (classification)\n",
      "C:  6.6\n",
      "Accuracy = 83.4286% (584/700) (classification)\n",
      "C:  6.8\n",
      "Accuracy = 83.4286% (584/700) (classification)\n",
      "C:  7.0\n",
      "Accuracy = 83.2857% (583/700) (classification)\n",
      "C:  7.2\n",
      "Accuracy = 83.2857% (583/700) (classification)\n",
      "C:  7.4\n",
      "Accuracy = 83.5714% (585/700) (classification)\n",
      "C:  7.6\n",
      "Accuracy = 83.7143% (586/700) (classification)\n",
      "C:  7.8\n",
      "Accuracy = 83.7143% (586/700) (classification)\n",
      "C:  8.0\n",
      "Accuracy = 83.7143% (586/700) (classification)\n",
      "C:  8.2\n",
      "Accuracy = 83.7143% (586/700) (classification)\n",
      "C:  8.4\n",
      "Accuracy = 83.7143% (586/700) (classification)\n",
      "C:  8.6\n",
      "Accuracy = 83.7143% (586/700) (classification)\n",
      "C:  8.8\n",
      "Accuracy = 83.7143% (586/700) (classification)\n",
      "C:  9.0\n",
      "Accuracy = 83.5714% (585/700) (classification)\n",
      "C:  9.2\n",
      "Accuracy = 83.5714% (585/700) (classification)\n",
      "C:  9.4\n",
      "Accuracy = 83.7143% (586/700) (classification)\n",
      "C:  9.6\n",
      "Accuracy = 83.7143% (586/700) (classification)\n",
      "C:  9.8\n",
      "Accuracy = 83.7143% (586/700) (classification)\n",
      "C:  10.0\n",
      "Accuracy = 83.5714% (585/700) (classification)\n",
      "C:  10.2\n",
      "Accuracy = 83.5714% (585/700) (classification)\n",
      "C:  10.4\n",
      "Accuracy = 83.5714% (585/700) (classification)\n",
      "C:  10.6\n",
      "Accuracy = 83.5714% (585/700) (classification)\n",
      "C:  10.8\n",
      "Accuracy = 83.5714% (585/700) (classification)\n",
      "C:  11.0\n",
      "Accuracy = 83.5714% (585/700) (classification)\n",
      "C:  11.2\n",
      "Accuracy = 83.5714% (585/700) (classification)\n",
      "C:  11.4\n",
      "Accuracy = 83.7143% (586/700) (classification)\n",
      "C:  11.6\n",
      "Accuracy = 83.7143% (586/700) (classification)\n",
      "C:  11.8\n",
      "Accuracy = 83.7143% (586/700) (classification)\n",
      "C:  12.0\n",
      "Accuracy = 83.7143% (586/700) (classification)\n",
      "C:  12.2\n",
      "Accuracy = 83.7143% (586/700) (classification)\n",
      "C:  12.4\n",
      "Accuracy = 83.7143% (586/700) (classification)\n",
      "C:  12.6\n",
      "Accuracy = 83.4286% (584/700) (classification)\n",
      "C:  12.8\n",
      "Accuracy = 83.5714% (585/700) (classification)\n",
      "C:  13.0\n",
      "Accuracy = 83.4286% (584/700) (classification)\n",
      "C:  13.2\n",
      "Accuracy = 83.5714% (585/700) (classification)\n",
      "C:  13.4\n",
      "Accuracy = 83.5714% (585/700) (classification)\n",
      "C:  13.6\n",
      "Accuracy = 83.5714% (585/700) (classification)\n",
      "C:  13.8\n",
      "Accuracy = 83.7143% (586/700) (classification)\n",
      "C:  14.0\n",
      "Accuracy = 83.7143% (586/700) (classification)\n",
      "C:  14.2\n",
      "Accuracy = 83.7143% (586/700) (classification)\n",
      "C:  14.4\n",
      "Accuracy = 83.7143% (586/700) (classification)\n",
      "C:  14.6\n",
      "Accuracy = 83.7143% (586/700) (classification)\n",
      "C:  14.8\n",
      "Accuracy = 83.7143% (586/700) (classification)\n",
      "C:  15.0\n",
      "Accuracy = 83.7143% (586/700) (classification)\n",
      "C:  15.2\n",
      "Accuracy = 83.7143% (586/700) (classification)\n",
      "C:  15.4\n",
      "Accuracy = 83.7143% (586/700) (classification)\n",
      "C:  15.6\n",
      "Accuracy = 83.7143% (586/700) (classification)\n",
      "C:  15.8\n",
      "Accuracy = 83.7143% (586/700) (classification)\n",
      "C:  16.0\n",
      "Accuracy = 83.7143% (586/700) (classification)\n",
      "C:  16.2\n",
      "Accuracy = 83.7143% (586/700) (classification)\n",
      "C:  16.4\n",
      "Accuracy = 83.5714% (585/700) (classification)\n",
      "C:  16.6\n",
      "Accuracy = 83.4286% (584/700) (classification)\n",
      "C:  16.8\n",
      "Accuracy = 83.2857% (583/700) (classification)\n",
      "C:  17.0\n",
      "Accuracy = 83.2857% (583/700) (classification)\n",
      "C:  17.2\n",
      "Accuracy = 83.2857% (583/700) (classification)\n",
      "C:  17.4\n",
      "Accuracy = 83.2857% (583/700) (classification)\n",
      "C:  17.6\n",
      "Accuracy = 83.2857% (583/700) (classification)\n",
      "C:  17.8\n",
      "Accuracy = 83.2857% (583/700) (classification)\n",
      "C:  18.0\n",
      "Accuracy = 83.2857% (583/700) (classification)\n",
      "C:  18.2\n",
      "Accuracy = 83.2857% (583/700) (classification)\n",
      "C:  18.4\n",
      "Accuracy = 83.2857% (583/700) (classification)\n",
      "C:  18.6\n",
      "Accuracy = 83.2857% (583/700) (classification)\n",
      "C:  18.8\n",
      "Accuracy = 83.2857% (583/700) (classification)\n",
      "C:  19.0\n",
      "Accuracy = 83.2857% (583/700) (classification)\n",
      "C:  19.2\n",
      "Accuracy = 83.2857% (583/700) (classification)\n",
      "C:  19.4\n",
      "Accuracy = 83.2857% (583/700) (classification)\n",
      "C:  19.6\n",
      "Accuracy = 83.2857% (583/700) (classification)\n",
      "C:  19.8\n",
      "Accuracy = 83.2857% (583/700) (classification)\n",
      "C:  20.0\n",
      "Accuracy = 83.2857% (583/700) (classification)\n"
     ]
    }
   ],
   "source": [
    "train_y,train_x = svm_read_problem(\"Train.File\")\n",
    "val_y,val_x = svm_read_problem(\"Val.File\")\n",
    "test_y,test_x = svm_read_problem(\"Test.File\")\n",
    "crange = np.linspace(0.2,20,100)\n",
    "f1score = []\n",
    "accuracy_pred = []\n",
    "mse_pred = []\n",
    "bestmodel = None\n",
    "MSE = 0\n",
    "for i in crange:\n",
    "    print(\"C: \",round(i,2))\n",
    "    m = svm_train(train_y,train_x,'-c '+str(i))\n",
    "    pred_label, pred_acc, pred_val = svm_predict(val_y,val_x,m )\n",
    "    f1score.append(f1_score(val_y, pred_label))\n",
    "    accuracy_pred.append(pred_acc[0])\n",
    "    mse_pred.append(pred_acc[1])\n",
    "    \n",
    "    if bestmodel == None or MSE > pred_acc[1]: \n",
    "        bestmodel = m\n",
    "        MSE = pred_acc[1]"
   ]
  },
  {
   "cell_type": "code",
   "execution_count": 39,
   "metadata": {},
   "outputs": [
    {
     "data": {
      "image/png": "[encoded data removed]",
      "text/plain": [
       "<Figure size 936x432 with 1 Axes>"
      ]
     },
     "metadata": {
      "needs_background": "light"
     },
     "output_type": "display_data"
    }
   ],
   "source": [
    "maxindex = accuracy_pred.index(max(accuracy_pred))\n",
    "plt.figure(figsize=(13,6))\n",
    "plt.plot(crange,accuracy_pred)\n",
    "plt.plot(crange[maxindex],accuracy_pred[maxindex],'ro')\n",
    "plt.title(\"Cost vs Accuracy (Radial Kernel)\")\n",
    "plt.xlabel(\"Cost\")\n",
    "plt.ylabel(\"Accuracy\")\n",
    "plt.grid()"
   ]
  },
  {
   "cell_type": "code",
   "execution_count": 1,
   "metadata": {},
   "outputs": [
    {
     "ename": "NameError",
     "evalue": "name 'mse_pred' is not defined",
     "output_type": "error",
     "traceback": [
      "\u001b[1;31m---------------------------------------------------------------------------\u001b[0m",
      "\u001b[1;31mNameError\u001b[0m                                 Traceback (most recent call last)",
      "\u001b[1;32m<ipython-input-1-bbe673fc25aa>\u001b[0m in \u001b[0;36m<module>\u001b[1;34m\u001b[0m\n\u001b[1;32m----> 1\u001b[1;33m \u001b[0mminindex\u001b[0m \u001b[1;33m=\u001b[0m \u001b[0mmse_pred\u001b[0m\u001b[1;33m.\u001b[0m\u001b[0mindex\u001b[0m\u001b[1;33m(\u001b[0m\u001b[0mmin\u001b[0m\u001b[1;33m(\u001b[0m\u001b[0mmse_pred\u001b[0m\u001b[1;33m)\u001b[0m\u001b[1;33m)\u001b[0m\u001b[1;33m\u001b[0m\u001b[0m\n\u001b[0m\u001b[0;32m      2\u001b[0m \u001b[0mplt\u001b[0m\u001b[1;33m.\u001b[0m\u001b[0mfigure\u001b[0m\u001b[1;33m(\u001b[0m\u001b[0mfigsize\u001b[0m\u001b[1;33m=\u001b[0m\u001b[1;33m(\u001b[0m\u001b[1;36m13\u001b[0m\u001b[1;33m,\u001b[0m\u001b[1;36m6\u001b[0m\u001b[1;33m)\u001b[0m\u001b[1;33m)\u001b[0m\u001b[1;33m\u001b[0m\u001b[0m\n\u001b[0;32m      3\u001b[0m \u001b[0mplt\u001b[0m\u001b[1;33m.\u001b[0m\u001b[0mplot\u001b[0m\u001b[1;33m(\u001b[0m\u001b[0mcrange\u001b[0m\u001b[1;33m,\u001b[0m\u001b[0mmse_pred\u001b[0m\u001b[1;33m)\u001b[0m\u001b[1;33m\u001b[0m\u001b[0m\n\u001b[0;32m      4\u001b[0m \u001b[0mplt\u001b[0m\u001b[1;33m.\u001b[0m\u001b[0mplot\u001b[0m\u001b[1;33m(\u001b[0m\u001b[0mcrange\u001b[0m\u001b[1;33m[\u001b[0m\u001b[0mminindex\u001b[0m\u001b[1;33m]\u001b[0m\u001b[1;33m,\u001b[0m\u001b[0mmse_pred\u001b[0m\u001b[1;33m[\u001b[0m\u001b[0mminindex\u001b[0m\u001b[1;33m]\u001b[0m\u001b[1;33m,\u001b[0m\u001b[1;34m'ro'\u001b[0m\u001b[1;33m,\u001b[0m\u001b[0mlabel\u001b[0m \u001b[1;33m=\u001b[0m \u001b[0mstr\u001b[0m\u001b[1;33m(\u001b[0m\u001b[0mcrange\u001b[0m\u001b[1;33m[\u001b[0m\u001b[0mminindex\u001b[0m\u001b[1;33m]\u001b[0m\u001b[1;33m)\u001b[0m \u001b[1;33m+\u001b[0m \u001b[0mstr\u001b[0m\u001b[1;33m(\u001b[0m\u001b[0mmse_pred\u001b[0m\u001b[1;33m[\u001b[0m\u001b[0mminindex\u001b[0m\u001b[1;33m]\u001b[0m\u001b[1;33m)\u001b[0m\u001b[1;33m)\u001b[0m\u001b[1;33m\u001b[0m\u001b[0m\n\u001b[0;32m      5\u001b[0m \u001b[0mplt\u001b[0m\u001b[1;33m.\u001b[0m\u001b[0mtitle\u001b[0m\u001b[1;33m(\u001b[0m\u001b[1;34m\"Cost vs MSE (Radial Kernel)\"\u001b[0m\u001b[1;33m)\u001b[0m\u001b[1;33m\u001b[0m\u001b[0m\n",
      "\u001b[1;31mNameError\u001b[0m: name 'mse_pred' is not defined"
     ]
    }
   ],
   "source": [
    "minindex = mse_pred.index(min(mse_pred))\n",
    "plt.figure(figsize=(13,6))\n",
    "plt.plot(crange,mse_pred)\n",
    "plt.plot(crange[minindex],mse_pred[minindex],'ro',label = str(crange[minindex]) + str(mse_pred[minindex]))\n",
    "plt.title(\"Cost vs MSE (Radial Kernel)\")\n",
    "plt.xlabel(\"Cost\")\n",
    "plt.ylabel(\"MSE\")\n",
    "plt.grid()"
   ]
  },
  {
   "cell_type": "code",
   "execution_count": 34,
   "metadata": {},
   "outputs": [
    {
     "data": {
      "image/png": "[encoded data removed]",
      "text/plain": [
       "<Figure size 936x432 with 1 Axes>"
      ]
     },
     "metadata": {
      "needs_background": "light"
     },
     "output_type": "display_data"
    }
   ],
   "source": [
    "maxindex = f1score.index(max(f1score))\n",
    "plt.figure(figsize=(13,6))\n",
    "plt.plot(crange,f1score)\n",
    "plt.title(\"Cost vs f1 score (Radial Kernel)\")\n",
    "plt.xlabel(\"Cost\")\n",
    "plt.ylabel(\"Accuracy\")\n",
    "plt.grid()"
   ]
  },
  {
   "cell_type": "code",
   "execution_count": 42,
   "metadata": {},
   "outputs": [
    {
     "name": "stdout",
     "output_type": "stream",
     "text": [
      "Accuracy = 82.1111% (739/900) (classification)\n"
     ]
    },
    {
     "data": {
      "text/plain": [
       "(1.8, 2)"
      ]
     },
     "execution_count": 42,
     "metadata": {},
     "output_type": "execute_result"
    }
   ],
   "source": [
    "pred_label, pred_acc, pred_val = svm_predict(test_y,test_x,bestmodel)\n",
    "bestmodel.param.C,bestmodel.param.kernel_type"
   ]
  },
  {
   "cell_type": "code",
   "execution_count": 43,
   "metadata": {},
   "outputs": [],
   "source": [
    "Predictionresult = pd.DataFrame()"
   ]
  },
  {
   "cell_type": "code",
   "execution_count": 50,
   "metadata": {
    "scrolled": true
   },
   "outputs": [
    {
     "name": "stdout",
     "output_type": "stream",
     "text": [
      "Best C:  1.8 \n",
      "Kernel: Radial \n",
      "Accuracy:  82.111 \n",
      "MSE:  0.716\n"
     ]
    },
    {
     "data": {
      "text/html": [
       "<div>\n",
       "<style scoped>\n",
       "    .dataframe tbody tr th:only-of-type {\n",
       "        vertical-align: middle;\n",
       "    }\n",
       "\n",
       "    .dataframe tbody tr th {\n",
       "        vertical-align: top;\n",
       "    }\n",
       "\n",
       "    .dataframe thead th {\n",
       "        text-align: right;\n",
       "    }\n",
       "</style>\n",
       "<table border=\"1\" class=\"dataframe\">\n",
       "  <thead>\n",
       "    <tr style=\"text-align: right;\">\n",
       "      <th></th>\n",
       "      <th>Ground Truth</th>\n",
       "      <th>Prediction</th>\n",
       "    </tr>\n",
       "  </thead>\n",
       "  <tbody>\n",
       "    <tr>\n",
       "      <th>21</th>\n",
       "      <td>1.0</td>\n",
       "      <td>1.0</td>\n",
       "    </tr>\n",
       "    <tr>\n",
       "      <th>272</th>\n",
       "      <td>1.0</td>\n",
       "      <td>1.0</td>\n",
       "    </tr>\n",
       "    <tr>\n",
       "      <th>142</th>\n",
       "      <td>1.0</td>\n",
       "      <td>1.0</td>\n",
       "    </tr>\n",
       "    <tr>\n",
       "      <th>0</th>\n",
       "      <td>1.0</td>\n",
       "      <td>1.0</td>\n",
       "    </tr>\n",
       "    <tr>\n",
       "      <th>755</th>\n",
       "      <td>-1.0</td>\n",
       "      <td>-1.0</td>\n",
       "    </tr>\n",
       "    <tr>\n",
       "      <th>274</th>\n",
       "      <td>1.0</td>\n",
       "      <td>1.0</td>\n",
       "    </tr>\n",
       "    <tr>\n",
       "      <th>169</th>\n",
       "      <td>1.0</td>\n",
       "      <td>1.0</td>\n",
       "    </tr>\n",
       "    <tr>\n",
       "      <th>872</th>\n",
       "      <td>-1.0</td>\n",
       "      <td>1.0</td>\n",
       "    </tr>\n",
       "    <tr>\n",
       "      <th>663</th>\n",
       "      <td>-1.0</td>\n",
       "      <td>-1.0</td>\n",
       "    </tr>\n",
       "    <tr>\n",
       "      <th>885</th>\n",
       "      <td>-1.0</td>\n",
       "      <td>-1.0</td>\n",
       "    </tr>\n",
       "    <tr>\n",
       "      <th>446</th>\n",
       "      <td>-1.0</td>\n",
       "      <td>-1.0</td>\n",
       "    </tr>\n",
       "    <tr>\n",
       "      <th>721</th>\n",
       "      <td>-1.0</td>\n",
       "      <td>-1.0</td>\n",
       "    </tr>\n",
       "    <tr>\n",
       "      <th>581</th>\n",
       "      <td>-1.0</td>\n",
       "      <td>-1.0</td>\n",
       "    </tr>\n",
       "    <tr>\n",
       "      <th>345</th>\n",
       "      <td>1.0</td>\n",
       "      <td>1.0</td>\n",
       "    </tr>\n",
       "    <tr>\n",
       "      <th>52</th>\n",
       "      <td>1.0</td>\n",
       "      <td>1.0</td>\n",
       "    </tr>\n",
       "    <tr>\n",
       "      <th>648</th>\n",
       "      <td>-1.0</td>\n",
       "      <td>-1.0</td>\n",
       "    </tr>\n",
       "    <tr>\n",
       "      <th>135</th>\n",
       "      <td>1.0</td>\n",
       "      <td>1.0</td>\n",
       "    </tr>\n",
       "    <tr>\n",
       "      <th>575</th>\n",
       "      <td>-1.0</td>\n",
       "      <td>1.0</td>\n",
       "    </tr>\n",
       "    <tr>\n",
       "      <th>394</th>\n",
       "      <td>-1.0</td>\n",
       "      <td>-1.0</td>\n",
       "    </tr>\n",
       "    <tr>\n",
       "      <th>384</th>\n",
       "      <td>-1.0</td>\n",
       "      <td>-1.0</td>\n",
       "    </tr>\n",
       "  </tbody>\n",
       "</table>\n",
       "</div>"
      ],
      "text/plain": [
       "     Ground Truth  Prediction\n",
       "21            1.0         1.0\n",
       "272           1.0         1.0\n",
       "142           1.0         1.0\n",
       "0             1.0         1.0\n",
       "755          -1.0        -1.0\n",
       "274           1.0         1.0\n",
       "169           1.0         1.0\n",
       "872          -1.0         1.0\n",
       "663          -1.0        -1.0\n",
       "885          -1.0        -1.0\n",
       "446          -1.0        -1.0\n",
       "721          -1.0        -1.0\n",
       "581          -1.0        -1.0\n",
       "345           1.0         1.0\n",
       "52            1.0         1.0\n",
       "648          -1.0        -1.0\n",
       "135           1.0         1.0\n",
       "575          -1.0         1.0\n",
       "394          -1.0        -1.0\n",
       "384          -1.0        -1.0"
      ]
     },
     "execution_count": 50,
     "metadata": {},
     "output_type": "execute_result"
    }
   ],
   "source": [
    "Predictionresult[\"Ground Truth\"] = test_y\n",
    "Predictionresult[\"Prediction\"] = pred_label\n",
    "print(\"Best C: \",bestmodel.param.C,\"\\nKernel: Radial\",\"\\nAccuracy: \",round(pred_acc[0],3),\"\\nMSE: \",round(pred_acc[1],3))\n",
    "Predictionresult.sample(20)"
   ]
  },
  {
   "cell_type": "code",
   "execution_count": null,
   "metadata": {},
   "outputs": [],
   "source": []
  },
  {
   "cell_type": "code",
   "execution_count": null,
   "metadata": {},
   "outputs": [],
   "source": []
  }
 ],
 "metadata": {
  "kernelspec": {
   "display_name": "Python 3",
   "language": "python",
   "name": "python3"
  },
  "language_info": {
   "codemirror_mode": {
    "name": "ipython",
    "version": 3
   },
   "file_extension": ".py",
   "mimetype": "text/x-python",
   "name": "python",
   "nbconvert_exporter": "python",
   "pygments_lexer": "ipython3",
   "version": "3.5.4"
  }
 },
 "nbformat": 4,
 "nbformat_minor": 2
}
