{
 "cells": [
  {
   "cell_type": "markdown",
   "metadata": {},
   "source": [
    "# Exercise 11"
   ]
  },
  {
   "cell_type": "markdown",
   "metadata": {},
   "source": [
    "## Exercise 1 - Implement K-Nearest Neighbour"
   ]
  },
  {
   "cell_type": "markdown",
   "metadata": {},
   "source": [
    "### Importing libraries"
   ]
  },
  {
   "cell_type": "code",
   "execution_count": 1,
   "metadata": {},
   "outputs": [],
   "source": [
    "import numpy as np\n",
    "import pandas as pd\n",
    "import matplotlib.pyplot as plt\n",
    "import math\n",
    "from collections import Counter\n",
    "import random\n",
    "from sklearn.model_selection import GridSearchCV\n",
    "from sklearn.neighbors import KNeighborsClassifier\n",
    "from sklearn.model_selection import cross_val_score\n",
    "from sklearn.tree import DecisionTreeClassifier\n",
    "from sklearn.model_selection import train_test_split"
   ]
  },
  {
   "cell_type": "markdown",
   "metadata": {},
   "source": [
    "### Splitting the data to train and test"
   ]
  },
  {
   "cell_type": "code",
   "execution_count": 2,
   "metadata": {},
   "outputs": [],
   "source": [
    "def split_data(X,y,testsize):\n",
    "    X_train, X_test, y_train, y_test = train_test_split(X, y, test_size=testsize)\n",
    "    return X_train, X_test, y_train, y_test"
   ]
  },
  {
   "cell_type": "markdown",
   "metadata": {},
   "source": [
    "### Get numeric for Class names"
   ]
  },
  {
   "cell_type": "code",
   "execution_count": 3,
   "metadata": {},
   "outputs": [],
   "source": [
    "def numeric_class(data):\n",
    "    data['class'] = pd.factorize(irisdata['class'])[0] + 1\n",
    "    return data"
   ]
  },
  {
   "cell_type": "markdown",
   "metadata": {},
   "source": [
    "### Euclidean distance measure"
   ]
  },
  {
   "cell_type": "code",
   "execution_count": 4,
   "metadata": {},
   "outputs": [],
   "source": [
    "def euclidean_distance(train_var,test_var):\n",
    "    distance = 0\n",
    "    for i in range(0,len(train_var)):\n",
    "        distance += (train_var[i] - test_var[i]) ** 2\n",
    "    return np.sqrt(distance)"
   ]
  },
  {
   "cell_type": "markdown",
   "metadata": {},
   "source": [
    "### Get class names"
   ]
  },
  {
   "cell_type": "code",
   "execution_count": 5,
   "metadata": {},
   "outputs": [],
   "source": [
    "def get_names(data):\n",
    "    data_name = list()\n",
    "    irisclass = [\"Iris-Setosa\",\"Iris-Versicolour\",\"Iris-Virginica\"]\n",
    "    for i in data:\n",
    "        data_name.append(irisclass[i-1])\n",
    "    return data_name"
   ]
  },
  {
   "cell_type": "markdown",
   "metadata": {},
   "source": [
    "### Predict Class label"
   ]
  },
  {
   "cell_type": "code",
   "execution_count": 6,
   "metadata": {},
   "outputs": [],
   "source": [
    "def predict_class(neighbours):\n",
    "    \n",
    "    neighbours_count = Counter(neighbours)\n",
    "    predictedclass = list()\n",
    "    maximum = max(neighbours_count.values())\n",
    "    for i in (neighbours_count):\n",
    "        if neighbours_count[i] == maximum:\n",
    "            predictedclass.append(i)\n",
    "    return predictedclass[0]\n",
    "#     if len(predictedclass)>1:\n",
    "#         return random.choice(predictedclass)\n",
    "#     else:\n",
    "#         return predictedclass[0]"
   ]
  },
  {
   "cell_type": "markdown",
   "metadata": {},
   "source": [
    "### Quality of the prediction measure:"
   ]
  },
  {
   "cell_type": "code",
   "execution_count": 21,
   "metadata": {},
   "outputs": [],
   "source": [
    "def accuracy(y_test,y_pred_test):\n",
    "    misclassified_test = 0\n",
    "    for index,i in enumerate(y_test):\n",
    "        if i != y_pred_test[index]:\n",
    "            misclassified_test += 1\n",
    "    return (len(y_test) - misclassified_test)/len(y_test)"
   ]
  },
  {
   "cell_type": "markdown",
   "metadata": {},
   "source": [
    "### Criterion for choosing optimal value of k:"
   ]
  },
  {
   "cell_type": "code",
   "execution_count": 79,
   "metadata": {},
   "outputs": [],
   "source": [
    "def kfold(X_train,Y_train,fold,k):\n",
    "    split = math.ceil(len(X_train)/fold)\n",
    "    fold_mcrate = np.zeros((fold,k))\n",
    "    \n",
    "    for i in range (0,fold):\n",
    "        start = i*split\n",
    "        end = i*split+split\n",
    "        \n",
    "        if start ==0:\n",
    "            fold_Xtest = X_train[start:end]\n",
    "            fold_Xtrain = X_train[end:]\n",
    "            fold_Ytest = Y_train[start:end]\n",
    "            fold_Ytrain = Y_train[end:]\n",
    "            fold_Xtrainold = fold_Xtrain\n",
    "        else:\n",
    "            fold_Xtest = X_train[start:end]\n",
    "            fold_Xtrain1 = X_train[0:start]\n",
    "            fold_Xtrain2 = X_train[end:-1]\n",
    "            fold_Xtrain = np.concatenate((fold_Xtrain1,fold_Xtrain2))\n",
    "            fold_Ytest = Y_train[start:end]\n",
    "            fold_Ytrain1 = Y_train[0:start]\n",
    "            fold_Ytrain2 = Y_train[end:-1]\n",
    "            fold_Ytrain = np.concatenate((fold_Ytrain1,fold_Ytrain2))\n",
    "        \n",
    "        fold_mcrate[i],pred = knn_(fold_Xtrain,fold_Xtest,fold_Ytrain,fold_Ytest,k)\n",
    "\n",
    "    return fold_mcrate"
   ]
  },
  {
   "cell_type": "markdown",
   "metadata": {},
   "source": [
    "### K-NN algorithm:"
   ]
  },
  {
   "cell_type": "code",
   "execution_count": 80,
   "metadata": {},
   "outputs": [],
   "source": [
    "def knn_(X_train, X_test, y_train, y_test,k_val):\n",
    "    \n",
    "    mcrate_train = list()\n",
    "    mcrate_test = list()\n",
    "    y_pred = list()\n",
    "    for k in range (1,k_val+1):\n",
    "        neighbours_test = list()\n",
    "        distance_test = dict()\n",
    "        y_pred_test = list()\n",
    "        neighbours_train = list()\n",
    "        distance_train = dict()\n",
    "        y_pred_train = list()\n",
    "        for i in range(0,len(X_test)):\n",
    "            test_var = X_test[i]\n",
    "            for j in range(0,len(X_train)):\n",
    "                train_var = X_train[j]\n",
    "                distance_test[(euclidean_distance(train_var,test_var)),j,i] =j \n",
    "            for it,a in enumerate(sorted(distance_test)):\n",
    "                if it < k:\n",
    "                    neighbours_test.append(y_train[distance_test[a]])\n",
    "            y_pred_test.append(predict_class(neighbours_test))\n",
    "            distance_test = dict()\n",
    "            neighbours_test = list()\n",
    "        mcrate_test.append(accuracy(y_test,y_pred_test))        \n",
    "        y_pred.append(y_pred_test)\n",
    "    return mcrate_test,y_pred\n",
    "        \n",
    "                                 \n",
    "                                 "
   ]
  },
  {
   "cell_type": "markdown",
   "metadata": {},
   "source": [
    "### Importing the data"
   ]
  },
  {
   "cell_type": "code",
   "execution_count": 10,
   "metadata": {},
   "outputs": [],
   "source": [
    "winedata = pd.read_csv(\"winequality-red.csv\",delimiter = \";\")\n",
    "winedata = winedata.drop(columns = ['residual sugar','free sulfur dioxide','pH','fixed acidity','chlorides','total sulfur dioxide'])"
   ]
  },
  {
   "cell_type": "code",
   "execution_count": 16,
   "metadata": {},
   "outputs": [
    {
     "data": {
      "text/html": [
       "<div>\n",
       "<style scoped>\n",
       "    .dataframe tbody tr th:only-of-type {\n",
       "        vertical-align: middle;\n",
       "    }\n",
       "\n",
       "    .dataframe tbody tr th {\n",
       "        vertical-align: top;\n",
       "    }\n",
       "\n",
       "    .dataframe thead th {\n",
       "        text-align: right;\n",
       "    }\n",
       "</style>\n",
       "<table border=\"1\" class=\"dataframe\">\n",
       "  <thead>\n",
       "    <tr style=\"text-align: right;\">\n",
       "      <th></th>\n",
       "      <th>volatile acidity</th>\n",
       "      <th>citric acid</th>\n",
       "      <th>density</th>\n",
       "      <th>sulphates</th>\n",
       "      <th>alcohol</th>\n",
       "      <th>quality</th>\n",
       "    </tr>\n",
       "  </thead>\n",
       "  <tbody>\n",
       "    <tr>\n",
       "      <th>0</th>\n",
       "      <td>0.70</td>\n",
       "      <td>0.00</td>\n",
       "      <td>0.9978</td>\n",
       "      <td>0.56</td>\n",
       "      <td>9.4</td>\n",
       "      <td>5</td>\n",
       "    </tr>\n",
       "    <tr>\n",
       "      <th>1</th>\n",
       "      <td>0.88</td>\n",
       "      <td>0.00</td>\n",
       "      <td>0.9968</td>\n",
       "      <td>0.68</td>\n",
       "      <td>9.8</td>\n",
       "      <td>5</td>\n",
       "    </tr>\n",
       "    <tr>\n",
       "      <th>2</th>\n",
       "      <td>0.76</td>\n",
       "      <td>0.04</td>\n",
       "      <td>0.9970</td>\n",
       "      <td>0.65</td>\n",
       "      <td>9.8</td>\n",
       "      <td>5</td>\n",
       "    </tr>\n",
       "    <tr>\n",
       "      <th>3</th>\n",
       "      <td>0.28</td>\n",
       "      <td>0.56</td>\n",
       "      <td>0.9980</td>\n",
       "      <td>0.58</td>\n",
       "      <td>9.8</td>\n",
       "      <td>6</td>\n",
       "    </tr>\n",
       "    <tr>\n",
       "      <th>4</th>\n",
       "      <td>0.70</td>\n",
       "      <td>0.00</td>\n",
       "      <td>0.9978</td>\n",
       "      <td>0.56</td>\n",
       "      <td>9.4</td>\n",
       "      <td>5</td>\n",
       "    </tr>\n",
       "  </tbody>\n",
       "</table>\n",
       "</div>"
      ],
      "text/plain": [
       "   volatile acidity  citric acid  density  sulphates  alcohol  quality\n",
       "0              0.70         0.00   0.9978       0.56      9.4        5\n",
       "1              0.88         0.00   0.9968       0.68      9.8        5\n",
       "2              0.76         0.04   0.9970       0.65      9.8        5\n",
       "3              0.28         0.56   0.9980       0.58      9.8        6\n",
       "4              0.70         0.00   0.9978       0.56      9.4        5"
      ]
     },
     "execution_count": 16,
     "metadata": {},
     "output_type": "execute_result"
    }
   ],
   "source": [
    "winedata.head()"
   ]
  },
  {
   "cell_type": "markdown",
   "metadata": {},
   "source": [
    "### Split dataset to train and test"
   ]
  },
  {
   "cell_type": "code",
   "execution_count": 13,
   "metadata": {
    "scrolled": true
   },
   "outputs": [],
   "source": [
    "y = winedata['quality']\n",
    "X = winedata.drop(columns='quality')\n",
    "X_train, X_test, y_train, y_test = split_data(X,y,0.3)\n",
    "X_train = np.array(X_train)\n",
    "X_test = np.array(X_test)\n",
    "y_train = np.array(y_train)\n",
    "y_test = np.array(y_test)"
   ]
  },
  {
   "cell_type": "code",
   "execution_count": 81,
   "metadata": {},
   "outputs": [],
   "source": [
    "fold_mcrate = kfold(X_train,y_train,10,k)\n",
    "mcrate_cv = list()\n",
    "for i in range(0,k):\n",
    "    mcrate_cv.append(np.average(fold_mcrate[:,i]))"
   ]
  },
  {
   "cell_type": "code",
   "execution_count": 82,
   "metadata": {},
   "outputs": [
    {
     "data": {
      "text/html": [
       "<div>\n",
       "<style scoped>\n",
       "    .dataframe tbody tr th:only-of-type {\n",
       "        vertical-align: middle;\n",
       "    }\n",
       "\n",
       "    .dataframe tbody tr th {\n",
       "        vertical-align: top;\n",
       "    }\n",
       "\n",
       "    .dataframe thead th {\n",
       "        text-align: right;\n",
       "    }\n",
       "</style>\n",
       "<table border=\"1\" class=\"dataframe\">\n",
       "  <thead>\n",
       "    <tr style=\"text-align: right;\">\n",
       "      <th></th>\n",
       "      <th>1</th>\n",
       "      <th>2</th>\n",
       "      <th>3</th>\n",
       "      <th>4</th>\n",
       "      <th>5</th>\n",
       "      <th>6</th>\n",
       "      <th>7</th>\n",
       "      <th>8</th>\n",
       "      <th>9</th>\n",
       "      <th>10</th>\n",
       "      <th>11</th>\n",
       "      <th>12</th>\n",
       "      <th>13</th>\n",
       "      <th>14</th>\n",
       "      <th>15</th>\n",
       "    </tr>\n",
       "  </thead>\n",
       "  <tbody>\n",
       "    <tr>\n",
       "      <th>0</th>\n",
       "      <td>0.579963</td>\n",
       "      <td>0.522756</td>\n",
       "      <td>0.529947</td>\n",
       "      <td>0.570125</td>\n",
       "      <td>0.553193</td>\n",
       "      <td>0.56028</td>\n",
       "      <td>0.565718</td>\n",
       "      <td>0.561229</td>\n",
       "      <td>0.570158</td>\n",
       "      <td>0.573737</td>\n",
       "      <td>0.571943</td>\n",
       "      <td>0.569257</td>\n",
       "      <td>0.566562</td>\n",
       "      <td>0.565669</td>\n",
       "      <td>0.568348</td>\n",
       "    </tr>\n",
       "  </tbody>\n",
       "</table>\n",
       "</div>"
      ],
      "text/plain": [
       "         1         2         3         4         5        6         7   \\\n",
       "0  0.579963  0.522756  0.529947  0.570125  0.553193  0.56028  0.565718   \n",
       "\n",
       "         8         9         10        11        12        13        14  \\\n",
       "0  0.561229  0.570158  0.573737  0.571943  0.569257  0.566562  0.565669   \n",
       "\n",
       "         15  \n",
       "0  0.568348  "
      ]
     },
     "execution_count": 82,
     "metadata": {},
     "output_type": "execute_result"
    }
   ],
   "source": [
    "optimaldata = pd.DataFrame(columns=range(1,k+1))\n",
    "optimaldata.loc[0] = mcrate_cv\n",
    "optimaldata"
   ]
  },
  {
   "cell_type": "code",
   "execution_count": 83,
   "metadata": {},
   "outputs": [
    {
     "name": "stdout",
     "output_type": "stream",
     "text": [
      "\n",
      " Optimal K:  1\n",
      " Accuracy:  0.5799629987129987\n"
     ]
    },
    {
     "data": {
      "image/png": "[encoded data removed]",
      "text/plain": [
       "<Figure size 720x432 with 1 Axes>"
      ]
     },
     "metadata": {
      "needs_background": "light"
     },
     "output_type": "display_data"
    }
   ],
   "source": [
    "print(\"\\n Optimal K: \" ,mcrate_cv.index(max(mcrate_cv))+1)\n",
    "print(\" Accuracy: \",max(mcrate_cv))\n",
    "plt.figure(figsize=(10,6))\n",
    "plt.plot(mcrate_cv)\n",
    "plt.grid()\n",
    "plt.title(\"Accuracy with 10-fold Cross validation (K vs Accuracy) \")\n",
    "plt.plot(mcrate_cv.index(max(mcrate_cv)),max(mcrate_cv),'ro')\n",
    "plt.xlabel(\"K\")\n",
    "plt.ylabel(\"Cross Validation Accuracy\")\n",
    "plt.show()"
   ]
  },
  {
   "cell_type": "markdown",
   "metadata": {},
   "source": [
    "### Classification using Nearest neighbour  - sklearn"
   ]
  },
  {
   "cell_type": "code",
   "execution_count": 14,
   "metadata": {
    "scrolled": true
   },
   "outputs": [],
   "source": [
    "def knn_classifier(X_train,X_test,y_train,y_test,k):\n",
    "    k_scores = list()\n",
    "    knn = KNeighborsClassifier(n_neighbors=k)\n",
    "    knn.fit(X_train,y_train)\n",
    "    y_pred = knn.predict(X_test)\n",
    "    return y_pred"
   ]
  },
  {
   "cell_type": "code",
   "execution_count": 15,
   "metadata": {},
   "outputs": [],
   "source": [
    "k = 15\n",
    "y_pred = knn_classifier(X_train,X_test,y_train,y_test,k)"
   ]
  },
  {
   "cell_type": "code",
   "execution_count": 18,
   "metadata": {},
   "outputs": [],
   "source": [
    "Prediction = pd.DataFrame(columns=X.columns)\n",
    "Prediction['volatile acidity'] = X_test[:,0]\n",
    "Prediction['citric acid'] = X_test[:,1]\n",
    "Prediction['density'] = X_test[:,2]\n",
    "Prediction['sulphates'] = X_test[:,3]\n",
    "Prediction['alcohol'] = X_test[:,4]\n",
    "Prediction['quality'] = y_test\n",
    "Prediction['Prediction quality'] = y_pred"
   ]
  },
  {
   "cell_type": "code",
   "execution_count": 23,
   "metadata": {},
   "outputs": [
    {
     "name": "stdout",
     "output_type": "stream",
     "text": [
      "\n",
      "K:  15\n",
      "Accuracy of prediction:  0.6125\n",
      "Number of misclassifications:  186.0 \n",
      "\n"
     ]
    },
    {
     "data": {
      "text/html": [
       "<div>\n",
       "<style scoped>\n",
       "    .dataframe tbody tr th:only-of-type {\n",
       "        vertical-align: middle;\n",
       "    }\n",
       "\n",
       "    .dataframe tbody tr th {\n",
       "        vertical-align: top;\n",
       "    }\n",
       "\n",
       "    .dataframe thead th {\n",
       "        text-align: right;\n",
       "    }\n",
       "</style>\n",
       "<table border=\"1\" class=\"dataframe\">\n",
       "  <thead>\n",
       "    <tr style=\"text-align: right;\">\n",
       "      <th></th>\n",
       "      <th>volatile acidity</th>\n",
       "      <th>citric acid</th>\n",
       "      <th>density</th>\n",
       "      <th>sulphates</th>\n",
       "      <th>alcohol</th>\n",
       "      <th>quality</th>\n",
       "      <th>Prediction quality</th>\n",
       "    </tr>\n",
       "  </thead>\n",
       "  <tbody>\n",
       "    <tr>\n",
       "      <th>4</th>\n",
       "      <td>0.65</td>\n",
       "      <td>0.02</td>\n",
       "      <td>0.99498</td>\n",
       "      <td>0.62</td>\n",
       "      <td>10.4</td>\n",
       "      <td>6</td>\n",
       "      <td>6</td>\n",
       "    </tr>\n",
       "    <tr>\n",
       "      <th>362</th>\n",
       "      <td>0.12</td>\n",
       "      <td>0.45</td>\n",
       "      <td>0.99552</td>\n",
       "      <td>0.76</td>\n",
       "      <td>11.9</td>\n",
       "      <td>7</td>\n",
       "      <td>6</td>\n",
       "    </tr>\n",
       "    <tr>\n",
       "      <th>437</th>\n",
       "      <td>0.37</td>\n",
       "      <td>0.52</td>\n",
       "      <td>0.99613</td>\n",
       "      <td>0.58</td>\n",
       "      <td>11.1</td>\n",
       "      <td>6</td>\n",
       "      <td>6</td>\n",
       "    </tr>\n",
       "    <tr>\n",
       "      <th>24</th>\n",
       "      <td>0.61</td>\n",
       "      <td>0.14</td>\n",
       "      <td>0.99690</td>\n",
       "      <td>0.59</td>\n",
       "      <td>9.5</td>\n",
       "      <td>5</td>\n",
       "      <td>5</td>\n",
       "    </tr>\n",
       "    <tr>\n",
       "      <th>252</th>\n",
       "      <td>0.49</td>\n",
       "      <td>0.36</td>\n",
       "      <td>0.99702</td>\n",
       "      <td>0.78</td>\n",
       "      <td>10.9</td>\n",
       "      <td>6</td>\n",
       "      <td>6</td>\n",
       "    </tr>\n",
       "    <tr>\n",
       "      <th>336</th>\n",
       "      <td>0.43</td>\n",
       "      <td>0.21</td>\n",
       "      <td>0.99660</td>\n",
       "      <td>0.91</td>\n",
       "      <td>9.5</td>\n",
       "      <td>5</td>\n",
       "      <td>5</td>\n",
       "    </tr>\n",
       "    <tr>\n",
       "      <th>136</th>\n",
       "      <td>0.47</td>\n",
       "      <td>0.00</td>\n",
       "      <td>0.99220</td>\n",
       "      <td>0.48</td>\n",
       "      <td>12.3</td>\n",
       "      <td>6</td>\n",
       "      <td>6</td>\n",
       "    </tr>\n",
       "    <tr>\n",
       "      <th>90</th>\n",
       "      <td>0.73</td>\n",
       "      <td>0.24</td>\n",
       "      <td>0.99670</td>\n",
       "      <td>0.59</td>\n",
       "      <td>9.3</td>\n",
       "      <td>5</td>\n",
       "      <td>5</td>\n",
       "    </tr>\n",
       "    <tr>\n",
       "      <th>61</th>\n",
       "      <td>0.54</td>\n",
       "      <td>0.26</td>\n",
       "      <td>0.99760</td>\n",
       "      <td>0.60</td>\n",
       "      <td>9.3</td>\n",
       "      <td>6</td>\n",
       "      <td>5</td>\n",
       "    </tr>\n",
       "    <tr>\n",
       "      <th>70</th>\n",
       "      <td>0.52</td>\n",
       "      <td>0.38</td>\n",
       "      <td>0.99666</td>\n",
       "      <td>0.52</td>\n",
       "      <td>9.4</td>\n",
       "      <td>5</td>\n",
       "      <td>5</td>\n",
       "    </tr>\n",
       "  </tbody>\n",
       "</table>\n",
       "</div>"
      ],
      "text/plain": [
       "     volatile acidity  citric acid  density  sulphates  alcohol  quality  \\\n",
       "4                0.65         0.02  0.99498       0.62     10.4        6   \n",
       "362              0.12         0.45  0.99552       0.76     11.9        7   \n",
       "437              0.37         0.52  0.99613       0.58     11.1        6   \n",
       "24               0.61         0.14  0.99690       0.59      9.5        5   \n",
       "252              0.49         0.36  0.99702       0.78     10.9        6   \n",
       "336              0.43         0.21  0.99660       0.91      9.5        5   \n",
       "136              0.47         0.00  0.99220       0.48     12.3        6   \n",
       "90               0.73         0.24  0.99670       0.59      9.3        5   \n",
       "61               0.54         0.26  0.99760       0.60      9.3        6   \n",
       "70               0.52         0.38  0.99666       0.52      9.4        5   \n",
       "\n",
       "     Prediction quality  \n",
       "4                     6  \n",
       "362                   6  \n",
       "437                   6  \n",
       "24                    5  \n",
       "252                   6  \n",
       "336                   5  \n",
       "136                   6  \n",
       "90                    5  \n",
       "61                    5  \n",
       "70                    5  "
      ]
     },
     "execution_count": 23,
     "metadata": {},
     "output_type": "execute_result"
    }
   ],
   "source": [
    "print(\"\\nK: \",k)\n",
    "print(\"Accuracy of prediction: \",accuracy(y_test,y_pred))\n",
    "print(\"Number of misclassifications: \", len(y_test) - (accuracy(y_test,y_pred) * len(y_test)),\"\\n\")\n",
    "Prediction.sample(10)"
   ]
  },
  {
   "cell_type": "markdown",
   "metadata": {},
   "source": [
    "### To find optimal hyperparameter for nearest neighbour classifier"
   ]
  },
  {
   "cell_type": "code",
   "execution_count": 29,
   "metadata": {},
   "outputs": [
    {
     "name": "stdout",
     "output_type": "stream",
     "text": [
      "{'n_neighbors': [1, 2, 3, 4, 5, 6, 7, 8, 9, 10, 11, 12, 13, 14, 15, 16, 17, 18, 19, 20, 21, 22, 23, 24, 25, 26, 27, 28, 29, 30, 31, 32, 33, 34, 35, 36, 37, 38, 39, 40, 41, 42, 43, 44, 45, 46, 47, 48, 49]}\n"
     ]
    }
   ],
   "source": [
    "k_range = list(range(1, 50))\n",
    "param_grid = dict(n_neighbors=k_range)\n",
    "print(param_grid)"
   ]
  },
  {
   "cell_type": "code",
   "execution_count": 35,
   "metadata": {},
   "outputs": [
    {
     "data": {
      "text/plain": [
       "GridSearchCV(cv=5, error_score='raise-deprecating',\n",
       "       estimator=KNeighborsClassifier(algorithm='auto', leaf_size=30, metric='minkowski',\n",
       "           metric_params=None, n_jobs=None, n_neighbors=5, p=2,\n",
       "           weights='uniform'),\n",
       "       fit_params=None, iid='warn', n_jobs=None,\n",
       "       param_grid={'n_neighbors': [1, 2, 3, 4, 5, 6, 7, 8, 9, 10, 11, 12, 13, 14, 15, 16, 17, 18, 19, 20, 21, 22, 23, 24, 25, 26, 27, 28, 29, 30, 31, 32, 33, 34, 35, 36, 37, 38, 39, 40, 41, 42, 43, 44, 45, 46, 47, 48, 49]},\n",
       "       pre_dispatch='2*n_jobs', refit=True, return_train_score='warn',\n",
       "       scoring='accuracy', verbose=0)"
      ]
     },
     "execution_count": 35,
     "metadata": {},
     "output_type": "execute_result"
    }
   ],
   "source": [
    "knn = KNeighborsClassifier()\n",
    "grid = GridSearchCV(knn, param_grid, cv=5, scoring='accuracy')\n",
    "grid.fit(X_train, y_train)"
   ]
  },
  {
   "cell_type": "code",
   "execution_count": 36,
   "metadata": {},
   "outputs": [
    {
     "data": {
      "text/plain": [
       "({'n_neighbors': 19}, 0.579982126899017)"
      ]
     },
     "execution_count": 36,
     "metadata": {},
     "output_type": "execute_result"
    }
   ],
   "source": [
    "grid.best_params_,grid.best_score_"
   ]
  },
  {
   "cell_type": "code",
   "execution_count": 37,
   "metadata": {},
   "outputs": [
    {
     "data": {
      "image/png": "[encoded data removed]",
      "text/plain": [
       "<Figure size 720x432 with 1 Axes>"
      ]
     },
     "metadata": {
      "needs_background": "light"
     },
     "output_type": "display_data"
    }
   ],
   "source": [
    "plt.figure(figsize=(10,6))\n",
    "plt.grid()\n",
    "plt.plot(grid.cv_results_['mean_test_score'])\n",
    "plt.title(\"Mean cross validation score with KNN Classifier (K vs Cross Validation Accuracy) \")\n",
    "plt.plot(grid.best_estimator_.n_neighbors-1,grid.best_score_,'ro')\n",
    "plt.xlabel(\"K\")\n",
    "plt.ylabel(\"Cross Validation Accuracy\")\n",
    "plt.show()"
   ]
  },
  {
   "cell_type": "code",
   "execution_count": 38,
   "metadata": {},
   "outputs": [],
   "source": [
    "knn = KNeighborsClassifier(n_neighbors = grid.best_estimator_.n_neighbors)\n",
    "knn.fit(X_train,y_train)\n",
    "y_pred = knn.predict(X_test)"
   ]
  },
  {
   "cell_type": "code",
   "execution_count": 39,
   "metadata": {},
   "outputs": [],
   "source": [
    "Prediction = pd.DataFrame(columns=X.columns)\n",
    "Prediction['volatile acidity'] = X_test[:,0]\n",
    "Prediction['citric acid'] = X_test[:,1]\n",
    "Prediction['density'] = X_test[:,2]\n",
    "Prediction['sulphates'] = X_test[:,3]\n",
    "Prediction['alcohol'] = X_test[:,4]\n",
    "Prediction['quality'] = y_test\n",
    "Prediction['Prediction quality'] = y_pred"
   ]
  },
  {
   "cell_type": "code",
   "execution_count": 41,
   "metadata": {
    "scrolled": false
   },
   "outputs": [
    {
     "name": "stdout",
     "output_type": "stream",
     "text": [
      "\n",
      "K:  19\n",
      "Accuracy of prediction:  0.6145833333333334\n",
      "Number of misclassifications:  185.0 \n",
      "\n"
     ]
    },
    {
     "data": {
      "text/html": [
       "<div>\n",
       "<style scoped>\n",
       "    .dataframe tbody tr th:only-of-type {\n",
       "        vertical-align: middle;\n",
       "    }\n",
       "\n",
       "    .dataframe tbody tr th {\n",
       "        vertical-align: top;\n",
       "    }\n",
       "\n",
       "    .dataframe thead th {\n",
       "        text-align: right;\n",
       "    }\n",
       "</style>\n",
       "<table border=\"1\" class=\"dataframe\">\n",
       "  <thead>\n",
       "    <tr style=\"text-align: right;\">\n",
       "      <th></th>\n",
       "      <th>volatile acidity</th>\n",
       "      <th>citric acid</th>\n",
       "      <th>density</th>\n",
       "      <th>sulphates</th>\n",
       "      <th>alcohol</th>\n",
       "      <th>quality</th>\n",
       "      <th>Prediction quality</th>\n",
       "    </tr>\n",
       "  </thead>\n",
       "  <tbody>\n",
       "    <tr>\n",
       "      <th>476</th>\n",
       "      <td>0.65</td>\n",
       "      <td>0.02</td>\n",
       "      <td>0.99498</td>\n",
       "      <td>0.62</td>\n",
       "      <td>10.4</td>\n",
       "      <td>6</td>\n",
       "      <td>6</td>\n",
       "    </tr>\n",
       "    <tr>\n",
       "      <th>178</th>\n",
       "      <td>0.31</td>\n",
       "      <td>0.40</td>\n",
       "      <td>0.99536</td>\n",
       "      <td>0.68</td>\n",
       "      <td>11.2</td>\n",
       "      <td>7</td>\n",
       "      <td>7</td>\n",
       "    </tr>\n",
       "    <tr>\n",
       "      <th>433</th>\n",
       "      <td>0.65</td>\n",
       "      <td>0.37</td>\n",
       "      <td>1.00260</td>\n",
       "      <td>0.64</td>\n",
       "      <td>10.4</td>\n",
       "      <td>6</td>\n",
       "      <td>6</td>\n",
       "    </tr>\n",
       "    <tr>\n",
       "      <th>169</th>\n",
       "      <td>0.43</td>\n",
       "      <td>0.25</td>\n",
       "      <td>0.99615</td>\n",
       "      <td>0.58</td>\n",
       "      <td>10.5</td>\n",
       "      <td>6</td>\n",
       "      <td>6</td>\n",
       "    </tr>\n",
       "    <tr>\n",
       "      <th>59</th>\n",
       "      <td>0.58</td>\n",
       "      <td>0.00</td>\n",
       "      <td>0.99562</td>\n",
       "      <td>0.58</td>\n",
       "      <td>11.3</td>\n",
       "      <td>6</td>\n",
       "      <td>6</td>\n",
       "    </tr>\n",
       "    <tr>\n",
       "      <th>132</th>\n",
       "      <td>0.47</td>\n",
       "      <td>0.27</td>\n",
       "      <td>0.99518</td>\n",
       "      <td>0.85</td>\n",
       "      <td>11.1</td>\n",
       "      <td>6</td>\n",
       "      <td>6</td>\n",
       "    </tr>\n",
       "    <tr>\n",
       "      <th>269</th>\n",
       "      <td>0.60</td>\n",
       "      <td>0.01</td>\n",
       "      <td>0.99514</td>\n",
       "      <td>0.61</td>\n",
       "      <td>10.9</td>\n",
       "      <td>6</td>\n",
       "      <td>6</td>\n",
       "    </tr>\n",
       "    <tr>\n",
       "      <th>91</th>\n",
       "      <td>0.45</td>\n",
       "      <td>0.36</td>\n",
       "      <td>0.99780</td>\n",
       "      <td>0.83</td>\n",
       "      <td>10.5</td>\n",
       "      <td>5</td>\n",
       "      <td>6</td>\n",
       "    </tr>\n",
       "    <tr>\n",
       "      <th>276</th>\n",
       "      <td>0.50</td>\n",
       "      <td>0.11</td>\n",
       "      <td>0.99545</td>\n",
       "      <td>0.79</td>\n",
       "      <td>9.5</td>\n",
       "      <td>5</td>\n",
       "      <td>5</td>\n",
       "    </tr>\n",
       "    <tr>\n",
       "      <th>206</th>\n",
       "      <td>0.35</td>\n",
       "      <td>0.47</td>\n",
       "      <td>0.99585</td>\n",
       "      <td>0.52</td>\n",
       "      <td>12.0</td>\n",
       "      <td>6</td>\n",
       "      <td>6</td>\n",
       "    </tr>\n",
       "  </tbody>\n",
       "</table>\n",
       "</div>"
      ],
      "text/plain": [
       "     volatile acidity  citric acid  density  sulphates  alcohol  quality  \\\n",
       "476              0.65         0.02  0.99498       0.62     10.4        6   \n",
       "178              0.31         0.40  0.99536       0.68     11.2        7   \n",
       "433              0.65         0.37  1.00260       0.64     10.4        6   \n",
       "169              0.43         0.25  0.99615       0.58     10.5        6   \n",
       "59               0.58         0.00  0.99562       0.58     11.3        6   \n",
       "132              0.47         0.27  0.99518       0.85     11.1        6   \n",
       "269              0.60         0.01  0.99514       0.61     10.9        6   \n",
       "91               0.45         0.36  0.99780       0.83     10.5        5   \n",
       "276              0.50         0.11  0.99545       0.79      9.5        5   \n",
       "206              0.35         0.47  0.99585       0.52     12.0        6   \n",
       "\n",
       "     Prediction quality  \n",
       "476                   6  \n",
       "178                   7  \n",
       "433                   6  \n",
       "169                   6  \n",
       "59                    6  \n",
       "132                   6  \n",
       "269                   6  \n",
       "91                    6  \n",
       "276                   5  \n",
       "206                   6  "
      ]
     },
     "execution_count": 41,
     "metadata": {},
     "output_type": "execute_result"
    }
   ],
   "source": [
    "print(\"\\nK: \",grid.best_estimator_.n_neighbors)\n",
    "print(\"Accuracy of prediction: \",accuracy(y_test,y_pred))\n",
    "print(\"Number of misclassifications: \", len(y_test) - (accuracy(y_test,y_pred) * len(y_test)),\"\\n\")\n",
    "Prediction.sample(10)"
   ]
  },
  {
   "cell_type": "markdown",
   "metadata": {},
   "source": [
    "### Classification using Decision Tree Classifier - sklearn"
   ]
  },
  {
   "cell_type": "code",
   "execution_count": 84,
   "metadata": {},
   "outputs": [],
   "source": [
    "def DecTreeClassifier(X_train,X_test,y_train,y_test):\n",
    "    \n",
    "    classifier = DecisionTreeClassifier(random_state=0)\n",
    "    classifier.fit(X_train,y_train)\n",
    "    print(classifier.get_params)\n",
    "    y_pred = classifier.predict(X_test)\n",
    "    return y_pred"
   ]
  },
  {
   "cell_type": "code",
   "execution_count": 85,
   "metadata": {
    "scrolled": true
   },
   "outputs": [
    {
     "name": "stdout",
     "output_type": "stream",
     "text": [
      "<bound method BaseEstimator.get_params of DecisionTreeClassifier(class_weight=None, criterion='gini', max_depth=None,\n",
      "            max_features=None, max_leaf_nodes=None,\n",
      "            min_impurity_decrease=0.0, min_impurity_split=None,\n",
      "            min_samples_leaf=1, min_samples_split=2,\n",
      "            min_weight_fraction_leaf=0.0, presort=False, random_state=0,\n",
      "            splitter='best')>\n"
     ]
    },
    {
     "data": {
      "text/plain": [
       "0.5916666666666667"
      ]
     },
     "execution_count": 85,
     "metadata": {},
     "output_type": "execute_result"
    }
   ],
   "source": [
    "y_pred = DecTreeClassifier(X_train,X_test,y_train,y_test)\n",
    "acc = accuracy(y_pred,y_test)\n",
    "acc"
   ]
  },
  {
   "cell_type": "code",
   "execution_count": 86,
   "metadata": {},
   "outputs": [],
   "source": [
    "Prediction = pd.DataFrame(columns=X.columns)\n",
    "Prediction['volatile acidity'] = X_test[:,0]\n",
    "Prediction['citric acid'] = X_test[:,1]\n",
    "Prediction['density'] = X_test[:,2]\n",
    "Prediction['sulphates'] = X_test[:,3]\n",
    "Prediction['alcohol'] = X_test[:,4]\n",
    "Prediction['quality'] = y_test\n",
    "Prediction['Prediction quality'] = y_pred"
   ]
  },
  {
   "cell_type": "code",
   "execution_count": 88,
   "metadata": {
    "scrolled": false
   },
   "outputs": [
    {
     "name": "stdout",
     "output_type": "stream",
     "text": [
      "\n",
      "K:  9\n",
      "Accuracy of prediction:  0.5916666666666667\n",
      "Number of misclassifications:  196.0 \n",
      "\n"
     ]
    },
    {
     "data": {
      "text/html": [
       "<div>\n",
       "<style scoped>\n",
       "    .dataframe tbody tr th:only-of-type {\n",
       "        vertical-align: middle;\n",
       "    }\n",
       "\n",
       "    .dataframe tbody tr th {\n",
       "        vertical-align: top;\n",
       "    }\n",
       "\n",
       "    .dataframe thead th {\n",
       "        text-align: right;\n",
       "    }\n",
       "</style>\n",
       "<table border=\"1\" class=\"dataframe\">\n",
       "  <thead>\n",
       "    <tr style=\"text-align: right;\">\n",
       "      <th></th>\n",
       "      <th>volatile acidity</th>\n",
       "      <th>citric acid</th>\n",
       "      <th>density</th>\n",
       "      <th>sulphates</th>\n",
       "      <th>alcohol</th>\n",
       "      <th>quality</th>\n",
       "      <th>Prediction quality</th>\n",
       "    </tr>\n",
       "  </thead>\n",
       "  <tbody>\n",
       "    <tr>\n",
       "      <th>34</th>\n",
       "      <td>0.61</td>\n",
       "      <td>0.01</td>\n",
       "      <td>0.99746</td>\n",
       "      <td>0.73</td>\n",
       "      <td>10.5</td>\n",
       "      <td>5</td>\n",
       "      <td>5</td>\n",
       "    </tr>\n",
       "    <tr>\n",
       "      <th>426</th>\n",
       "      <td>0.39</td>\n",
       "      <td>0.47</td>\n",
       "      <td>0.99820</td>\n",
       "      <td>0.75</td>\n",
       "      <td>9.8</td>\n",
       "      <td>6</td>\n",
       "      <td>6</td>\n",
       "    </tr>\n",
       "    <tr>\n",
       "      <th>238</th>\n",
       "      <td>0.34</td>\n",
       "      <td>0.52</td>\n",
       "      <td>1.00140</td>\n",
       "      <td>0.81</td>\n",
       "      <td>9.5</td>\n",
       "      <td>6</td>\n",
       "      <td>6</td>\n",
       "    </tr>\n",
       "    <tr>\n",
       "      <th>309</th>\n",
       "      <td>0.36</td>\n",
       "      <td>0.64</td>\n",
       "      <td>0.99800</td>\n",
       "      <td>0.66</td>\n",
       "      <td>12.5</td>\n",
       "      <td>6</td>\n",
       "      <td>6</td>\n",
       "    </tr>\n",
       "    <tr>\n",
       "      <th>78</th>\n",
       "      <td>0.52</td>\n",
       "      <td>0.38</td>\n",
       "      <td>0.99666</td>\n",
       "      <td>0.52</td>\n",
       "      <td>9.4</td>\n",
       "      <td>5</td>\n",
       "      <td>5</td>\n",
       "    </tr>\n",
       "    <tr>\n",
       "      <th>331</th>\n",
       "      <td>0.55</td>\n",
       "      <td>0.03</td>\n",
       "      <td>0.99560</td>\n",
       "      <td>0.48</td>\n",
       "      <td>9.0</td>\n",
       "      <td>4</td>\n",
       "      <td>4</td>\n",
       "    </tr>\n",
       "    <tr>\n",
       "      <th>106</th>\n",
       "      <td>0.54</td>\n",
       "      <td>0.04</td>\n",
       "      <td>0.99870</td>\n",
       "      <td>0.91</td>\n",
       "      <td>9.4</td>\n",
       "      <td>6</td>\n",
       "      <td>6</td>\n",
       "    </tr>\n",
       "    <tr>\n",
       "      <th>428</th>\n",
       "      <td>0.50</td>\n",
       "      <td>0.18</td>\n",
       "      <td>0.99761</td>\n",
       "      <td>0.72</td>\n",
       "      <td>9.6</td>\n",
       "      <td>6</td>\n",
       "      <td>6</td>\n",
       "    </tr>\n",
       "    <tr>\n",
       "      <th>203</th>\n",
       "      <td>0.55</td>\n",
       "      <td>0.15</td>\n",
       "      <td>0.99314</td>\n",
       "      <td>0.82</td>\n",
       "      <td>11.6</td>\n",
       "      <td>6</td>\n",
       "      <td>7</td>\n",
       "    </tr>\n",
       "    <tr>\n",
       "      <th>267</th>\n",
       "      <td>0.57</td>\n",
       "      <td>0.09</td>\n",
       "      <td>0.99417</td>\n",
       "      <td>0.74</td>\n",
       "      <td>12.7</td>\n",
       "      <td>8</td>\n",
       "      <td>6</td>\n",
       "    </tr>\n",
       "  </tbody>\n",
       "</table>\n",
       "</div>"
      ],
      "text/plain": [
       "     volatile acidity  citric acid  density  sulphates  alcohol  quality  \\\n",
       "34               0.61         0.01  0.99746       0.73     10.5        5   \n",
       "426              0.39         0.47  0.99820       0.75      9.8        6   \n",
       "238              0.34         0.52  1.00140       0.81      9.5        6   \n",
       "309              0.36         0.64  0.99800       0.66     12.5        6   \n",
       "78               0.52         0.38  0.99666       0.52      9.4        5   \n",
       "331              0.55         0.03  0.99560       0.48      9.0        4   \n",
       "106              0.54         0.04  0.99870       0.91      9.4        6   \n",
       "428              0.50         0.18  0.99761       0.72      9.6        6   \n",
       "203              0.55         0.15  0.99314       0.82     11.6        6   \n",
       "267              0.57         0.09  0.99417       0.74     12.7        8   \n",
       "\n",
       "     Prediction quality  \n",
       "34                    5  \n",
       "426                   6  \n",
       "238                   6  \n",
       "309                   6  \n",
       "78                    5  \n",
       "331                   4  \n",
       "106                   6  \n",
       "428                   6  \n",
       "203                   7  \n",
       "267                   6  "
      ]
     },
     "execution_count": 88,
     "metadata": {},
     "output_type": "execute_result"
    }
   ],
   "source": [
    "print(\"\\nK: \",grid.best_index_)\n",
    "print(\"Accuracy of prediction: \",accuracy(y_test,y_pred))\n",
    "print(\"Number of misclassifications: \", len(y_test) - (accuracy(y_test,y_pred) * len(y_test)),\"\\n\")\n",
    "Prediction.sample(10)"
   ]
  },
  {
   "cell_type": "code",
   "execution_count": 91,
   "metadata": {},
   "outputs": [
    {
     "name": "stdout",
     "output_type": "stream",
     "text": [
      "{'min_samples_split': array([0.1 , 0.55, 1.  ]), 'max_depth': range(1, 5)}\n"
     ]
    }
   ],
   "source": [
    "min_samples_splits = np.linspace(0.1, 1.0, 3, endpoint=True)\n",
    "max_depth = range(1,5)\n",
    "param_grid = dict(min_samples_split=min_samples_splits,max_depth = max_depth)\n",
    "print(param_grid)"
   ]
  },
  {
   "cell_type": "code",
   "execution_count": 92,
   "metadata": {},
   "outputs": [],
   "source": [
    "grid = GridSearchCV(DecisionTreeClassifier(), param_grid)"
   ]
  },
  {
   "cell_type": "code",
   "execution_count": 93,
   "metadata": {},
   "outputs": [
    {
     "name": "stderr",
     "output_type": "stream",
     "text": [
      "c:\\users\\raaghav\\appdata\\local\\programs\\python\\python35\\lib\\site-packages\\sklearn\\model_selection\\_split.py:1943: FutureWarning: You should specify a value for 'cv' instead of relying on the default value. The default value will change from 3 to 5 in version 0.22.\n",
      "  warnings.warn(CV_WARNING, FutureWarning)\n"
     ]
    },
    {
     "data": {
      "text/plain": [
       "GridSearchCV(cv='warn', error_score='raise-deprecating',\n",
       "       estimator=DecisionTreeClassifier(class_weight=None, criterion='gini', max_depth=None,\n",
       "            max_features=None, max_leaf_nodes=None,\n",
       "            min_impurity_decrease=0.0, min_impurity_split=None,\n",
       "            min_samples_leaf=1, min_samples_split=2,\n",
       "            min_weight_fraction_leaf=0.0, presort=False, random_state=None,\n",
       "            splitter='best'),\n",
       "       fit_params=None, iid='warn', n_jobs=None,\n",
       "       param_grid={'min_samples_split': array([0.1 , 0.55, 1.  ]), 'max_depth': range(1, 5)},\n",
       "       pre_dispatch='2*n_jobs', refit=True, return_train_score='warn',\n",
       "       scoring=None, verbose=0)"
      ]
     },
     "execution_count": 93,
     "metadata": {},
     "output_type": "execute_result"
    }
   ],
   "source": [
    "grid.fit(X_train,y_train)"
   ]
  },
  {
   "cell_type": "code",
   "execution_count": 94,
   "metadata": {},
   "outputs": [
    {
     "data": {
      "text/plain": [
       "({'max_depth': 4, 'min_samples_split': 0.1}, 0.5746201966041108)"
      ]
     },
     "execution_count": 94,
     "metadata": {},
     "output_type": "execute_result"
    }
   ],
   "source": [
    "grid.best_params_,grid.best_score_"
   ]
  },
  {
   "cell_type": "code",
   "execution_count": 95,
   "metadata": {},
   "outputs": [
    {
     "data": {
      "text/plain": [
       "9"
      ]
     },
     "execution_count": 95,
     "metadata": {},
     "output_type": "execute_result"
    }
   ],
   "source": [
    "grid.best_index_"
   ]
  },
  {
   "cell_type": "code",
   "execution_count": 96,
   "metadata": {},
   "outputs": [
    {
     "data": {
      "image/png": "[encoded data removed]",
      "text/plain": [
       "<Figure size 720x432 with 1 Axes>"
      ]
     },
     "metadata": {
      "needs_background": "light"
     },
     "output_type": "display_data"
    }
   ],
   "source": [
    "plt.figure(figsize=(10,6))\n",
    "plt.grid()\n",
    "plt.plot(grid.cv_results_['mean_test_score'])\n",
    "plt.title(\"Mean cross validation score with Decision Tree Classifier\")\n",
    "plt.plot(grid.best_index_,grid.best_score_,'ro')\n",
    "plt.xlabel(\"Parameter Combination\")\n",
    "plt.ylabel(\"Cross Validation Accuracy\")\n",
    "plt.show()"
   ]
  },
  {
   "cell_type": "code",
   "execution_count": 97,
   "metadata": {},
   "outputs": [],
   "source": [
    "Classifier = DecisionTreeClassifier(max_depth=grid.best_params_['max_depth'],min_samples_split=grid.best_params_['min_samples_split'])\n",
    "Classifier.fit(X_train,y_train)\n",
    "y_pred = Classifier.predict(X_test)"
   ]
  },
  {
   "cell_type": "code",
   "execution_count": 98,
   "metadata": {},
   "outputs": [],
   "source": [
    "Prediction = pd.DataFrame(columns=X.columns)\n",
    "Prediction['volatile acidity'] = X_test[:,0]\n",
    "Prediction['citric acid'] = X_test[:,1]\n",
    "Prediction['density'] = X_test[:,2]\n",
    "Prediction['sulphates'] = X_test[:,3]\n",
    "Prediction['alcohol'] = X_test[:,4]\n",
    "Prediction['quality'] = y_test\n",
    "Prediction['Prediction quality'] = y_pred"
   ]
  },
  {
   "cell_type": "code",
   "execution_count": 99,
   "metadata": {
    "scrolled": false
   },
   "outputs": [
    {
     "name": "stdout",
     "output_type": "stream",
     "text": [
      "{'min_samples_split': 0.1, 'max_depth': 4}\n",
      "Accuracy of prediction:  0.5791666666666667\n",
      "Number of misclassifications:  202.0 \n",
      "\n"
     ]
    },
    {
     "data": {
      "text/html": [
       "<div>\n",
       "<style scoped>\n",
       "    .dataframe tbody tr th:only-of-type {\n",
       "        vertical-align: middle;\n",
       "    }\n",
       "\n",
       "    .dataframe tbody tr th {\n",
       "        vertical-align: top;\n",
       "    }\n",
       "\n",
       "    .dataframe thead th {\n",
       "        text-align: right;\n",
       "    }\n",
       "</style>\n",
       "<table border=\"1\" class=\"dataframe\">\n",
       "  <thead>\n",
       "    <tr style=\"text-align: right;\">\n",
       "      <th></th>\n",
       "      <th>volatile acidity</th>\n",
       "      <th>citric acid</th>\n",
       "      <th>density</th>\n",
       "      <th>sulphates</th>\n",
       "      <th>alcohol</th>\n",
       "      <th>quality</th>\n",
       "      <th>Prediction quality</th>\n",
       "    </tr>\n",
       "  </thead>\n",
       "  <tbody>\n",
       "    <tr>\n",
       "      <th>438</th>\n",
       "      <td>0.630</td>\n",
       "      <td>0.02</td>\n",
       "      <td>0.99712</td>\n",
       "      <td>0.75</td>\n",
       "      <td>9.8</td>\n",
       "      <td>5</td>\n",
       "      <td>5</td>\n",
       "    </tr>\n",
       "    <tr>\n",
       "      <th>67</th>\n",
       "      <td>0.280</td>\n",
       "      <td>0.28</td>\n",
       "      <td>0.99064</td>\n",
       "      <td>0.39</td>\n",
       "      <td>11.7</td>\n",
       "      <td>7</td>\n",
       "      <td>6</td>\n",
       "    </tr>\n",
       "    <tr>\n",
       "      <th>296</th>\n",
       "      <td>0.640</td>\n",
       "      <td>0.23</td>\n",
       "      <td>0.99980</td>\n",
       "      <td>0.59</td>\n",
       "      <td>9.7</td>\n",
       "      <td>5</td>\n",
       "      <td>5</td>\n",
       "    </tr>\n",
       "    <tr>\n",
       "      <th>270</th>\n",
       "      <td>0.580</td>\n",
       "      <td>0.20</td>\n",
       "      <td>0.99322</td>\n",
       "      <td>0.49</td>\n",
       "      <td>11.7</td>\n",
       "      <td>5</td>\n",
       "      <td>6</td>\n",
       "    </tr>\n",
       "    <tr>\n",
       "      <th>420</th>\n",
       "      <td>0.480</td>\n",
       "      <td>0.24</td>\n",
       "      <td>1.00000</td>\n",
       "      <td>0.56</td>\n",
       "      <td>10.0</td>\n",
       "      <td>6</td>\n",
       "      <td>5</td>\n",
       "    </tr>\n",
       "    <tr>\n",
       "      <th>245</th>\n",
       "      <td>0.795</td>\n",
       "      <td>0.00</td>\n",
       "      <td>0.99378</td>\n",
       "      <td>0.52</td>\n",
       "      <td>11.6</td>\n",
       "      <td>5</td>\n",
       "      <td>6</td>\n",
       "    </tr>\n",
       "    <tr>\n",
       "      <th>397</th>\n",
       "      <td>0.670</td>\n",
       "      <td>0.55</td>\n",
       "      <td>0.99680</td>\n",
       "      <td>0.62</td>\n",
       "      <td>9.4</td>\n",
       "      <td>5</td>\n",
       "      <td>5</td>\n",
       "    </tr>\n",
       "    <tr>\n",
       "      <th>479</th>\n",
       "      <td>0.590</td>\n",
       "      <td>0.49</td>\n",
       "      <td>0.99910</td>\n",
       "      <td>0.56</td>\n",
       "      <td>9.6</td>\n",
       "      <td>4</td>\n",
       "      <td>5</td>\n",
       "    </tr>\n",
       "    <tr>\n",
       "      <th>65</th>\n",
       "      <td>0.280</td>\n",
       "      <td>0.47</td>\n",
       "      <td>0.99686</td>\n",
       "      <td>0.67</td>\n",
       "      <td>10.6</td>\n",
       "      <td>7</td>\n",
       "      <td>6</td>\n",
       "    </tr>\n",
       "    <tr>\n",
       "      <th>386</th>\n",
       "      <td>0.180</td>\n",
       "      <td>0.34</td>\n",
       "      <td>0.99470</td>\n",
       "      <td>0.78</td>\n",
       "      <td>11.8</td>\n",
       "      <td>6</td>\n",
       "      <td>7</td>\n",
       "    </tr>\n",
       "  </tbody>\n",
       "</table>\n",
       "</div>"
      ],
      "text/plain": [
       "     volatile acidity  citric acid  density  sulphates  alcohol  quality  \\\n",
       "438             0.630         0.02  0.99712       0.75      9.8        5   \n",
       "67              0.280         0.28  0.99064       0.39     11.7        7   \n",
       "296             0.640         0.23  0.99980       0.59      9.7        5   \n",
       "270             0.580         0.20  0.99322       0.49     11.7        5   \n",
       "420             0.480         0.24  1.00000       0.56     10.0        6   \n",
       "245             0.795         0.00  0.99378       0.52     11.6        5   \n",
       "397             0.670         0.55  0.99680       0.62      9.4        5   \n",
       "479             0.590         0.49  0.99910       0.56      9.6        4   \n",
       "65              0.280         0.47  0.99686       0.67     10.6        7   \n",
       "386             0.180         0.34  0.99470       0.78     11.8        6   \n",
       "\n",
       "     Prediction quality  \n",
       "438                   5  \n",
       "67                    6  \n",
       "296                   5  \n",
       "270                   6  \n",
       "420                   5  \n",
       "245                   6  \n",
       "397                   5  \n",
       "479                   5  \n",
       "65                    6  \n",
       "386                   7  "
      ]
     },
     "execution_count": 99,
     "metadata": {},
     "output_type": "execute_result"
    }
   ],
   "source": [
    "print(grid.best_params_)\n",
    "print(\"Accuracy of prediction: \",accuracy(y_test,y_pred))\n",
    "print(\"Number of misclassifications: \", len(y_test) - (accuracy(y_test,y_pred) * len(y_test)),\"\\n\")\n",
    "Prediction.sample(10)"
   ]
  },
  {
   "cell_type": "code",
   "execution_count": 100,
   "metadata": {},
   "outputs": [
    {
     "data": {
      "text/plain": [
       "480"
      ]
     },
     "execution_count": 100,
     "metadata": {},
     "output_type": "execute_result"
    }
   ],
   "source": [
    "len(y_test)"
   ]
  },
  {
   "cell_type": "code",
   "execution_count": null,
   "metadata": {},
   "outputs": [],
   "source": []
  }
 ],
 "metadata": {
  "kernelspec": {
   "display_name": "Python 3",
   "language": "python",
   "name": "python3"
  },
  "language_info": {
   "codemirror_mode": {
    "name": "ipython",
    "version": 3
   },
   "file_extension": ".py",
   "mimetype": "text/x-python",
   "name": "python",
   "nbconvert_exporter": "python",
   "pygments_lexer": "ipython3",
   "version": "3.5.4"
  }
 },
 "nbformat": 4,
 "nbformat_minor": 2
}
