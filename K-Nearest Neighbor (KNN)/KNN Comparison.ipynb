{
 "cells": [
  {
   "cell_type": "markdown",
   "metadata": {},
   "source": [
    "# Exercise 11"
   ]
  },
  {
   "cell_type": "markdown",
   "metadata": {},
   "source": [
    "## Exercise 1 - Implement K-Nearest Neighbour"
   ]
  },
  {
   "cell_type": "markdown",
   "metadata": {},
   "source": [
    "### Importing libraries"
   ]
  },
  {
   "cell_type": "code",
   "execution_count": 853,
   "metadata": {},
   "outputs": [],
   "source": [
    "import numpy as np\n",
    "import pandas as pd\n",
    "import matplotlib.pyplot as plt\n",
    "import math\n",
    "from collections import Counter\n",
    "import random\n",
    "from sklearn.model_selection import GridSearchCV\n",
    "from sklearn.neighbors import KNeighborsClassifier\n",
    "from sklearn.model_selection import cross_val_score\n",
    "from sklearn.tree import DecisionTreeClassifier\n",
    "from sklearn.model_selection import train_test_split\n",
    "import warnings\n",
    "warnings.filterwarnings(\"ignore\")"
   ]
  },
  {
   "cell_type": "markdown",
   "metadata": {},
   "source": [
    "### Splitting the data to train and test"
   ]
  },
  {
   "cell_type": "code",
   "execution_count": 2,
   "metadata": {},
   "outputs": [],
   "source": [
    "def split_data(X,y,testsize):\n",
    "    X_train, X_test, y_train, y_test = train_test_split(X, y, test_size=testsize)\n",
    "    return X_train, X_test, y_train, y_test"
   ]
  },
  {
   "cell_type": "markdown",
   "metadata": {},
   "source": [
    "### Get numeric for Class names"
   ]
  },
  {
   "cell_type": "code",
   "execution_count": 3,
   "metadata": {},
   "outputs": [],
   "source": [
    "def numeric_class(data):\n",
    "    data['class'] = pd.factorize(irisdata['class'])[0] + 1\n",
    "    return data"
   ]
  },
  {
   "cell_type": "markdown",
   "metadata": {},
   "source": [
    "### Euclidean distance measure"
   ]
  },
  {
   "cell_type": "code",
   "execution_count": 4,
   "metadata": {},
   "outputs": [],
   "source": [
    "def euclidean_distance(train_var,test_var):\n",
    "    distance = 0\n",
    "    for i in range(0,len(train_var)):\n",
    "        distance += (train_var[i] - test_var[i]) ** 2\n",
    "    return np.sqrt(distance)"
   ]
  },
  {
   "cell_type": "markdown",
   "metadata": {},
   "source": [
    "### Get class names"
   ]
  },
  {
   "cell_type": "code",
   "execution_count": 610,
   "metadata": {},
   "outputs": [],
   "source": [
    "def get_names(data):\n",
    "    data_name = list()\n",
    "    irisclass = [\"Iris-Setosa\",\"Iris-Versicolour\",\"Iris-Virginica\"]\n",
    "    for i in data:\n",
    "        data_name.append(irisclass[i-1])\n",
    "    return data_name"
   ]
  },
  {
   "cell_type": "markdown",
   "metadata": {},
   "source": [
    "### Predict Class label"
   ]
  },
  {
   "cell_type": "code",
   "execution_count": 226,
   "metadata": {},
   "outputs": [],
   "source": [
    "def predict_class(neighbours):\n",
    "    \n",
    "    neighbours_count = Counter(neighbours)\n",
    "    predictedclass = list()\n",
    "    maximum = max(neighbours_count.values())\n",
    "    for i in (neighbours_count):\n",
    "        if neighbours_count[i] == maximum:\n",
    "            predictedclass.append(i)\n",
    "#     return predictedclass[0]\n",
    "    if len(predictedclass)>1:\n",
    "        return random.choice(predictedclass)\n",
    "    else:\n",
    "        return predictedclass[0]"
   ]
  },
  {
   "cell_type": "markdown",
   "metadata": {},
   "source": [
    "### Quality of the prediction measure:"
   ]
  },
  {
   "cell_type": "code",
   "execution_count": 786,
   "metadata": {},
   "outputs": [],
   "source": [
    "def accuracy(y_test,y_pred_test):\n",
    "    misclassified_test = 0\n",
    "    for index,i in enumerate(y_test):\n",
    "        if i != y_pred_test[index]:\n",
    "            misclassified_test += 1\n",
    "    return (len(y_test) - misclassified_test)/len(y_test)"
   ]
  },
  {
   "cell_type": "markdown",
   "metadata": {},
   "source": [
    "### Criterion for choosing optimal value of k:"
   ]
  },
  {
   "cell_type": "code",
   "execution_count": 624,
   "metadata": {},
   "outputs": [],
   "source": [
    "def kfold(X_train,Y_train,fold,k):\n",
    "    split = math.ceil(len(X_train)/fold)\n",
    "    fold_mcrate = np.zeros((fold,k))\n",
    "    \n",
    "    for i in range (0,fold):\n",
    "        start = i*split\n",
    "        end = i*split+split\n",
    "        \n",
    "        if start ==0:\n",
    "            fold_Xtest = X_train[start:end]\n",
    "            fold_Xtrain = X_train[end:]\n",
    "            fold_Ytest = Y_train[start:end]\n",
    "            fold_Ytrain = Y_train[end:]\n",
    "            fold_Xtrainold = fold_Xtrain\n",
    "        else:\n",
    "            fold_Xtest = X_train[start:end]\n",
    "            fold_Xtrain1 = X_train[0:start]\n",
    "            fold_Xtrain2 = X_train[end:-1]\n",
    "            fold_Xtrain = np.concatenate((fold_Xtrain1,fold_Xtrain2))\n",
    "            fold_Ytest = Y_train[start:end]\n",
    "            fold_Ytrain1 = Y_train[0:start]\n",
    "            fold_Ytrain2 = Y_train[end:-1]\n",
    "            fold_Ytrain = np.concatenate((fold_Ytrain1,fold_Ytrain2))\n",
    "        \n",
    "        fold_mcrate[i],pred = knn_(fold_Xtrain,fold_Xtest,fold_Ytrain,fold_Ytest,k)\n",
    "\n",
    "    return fold_mcrate"
   ]
  },
  {
   "cell_type": "markdown",
   "metadata": {},
   "source": [
    "### K-NN algorithm:"
   ]
  },
  {
   "cell_type": "code",
   "execution_count": 532,
   "metadata": {},
   "outputs": [],
   "source": [
    "def knn_(X_train, X_test, y_train, y_test,k_val):\n",
    "    \n",
    "    mcrate_train = list()\n",
    "    mcrate_test = list()\n",
    "    y_pred = list()\n",
    "    for k in range (1,k_val+1):\n",
    "        neighbours_test = list()\n",
    "        distance_test = dict()\n",
    "        y_pred_test = list()\n",
    "        neighbours_train = list()\n",
    "        distance_train = dict()\n",
    "        y_pred_train = list()\n",
    "        for i in range(0,len(X_test)):\n",
    "            test_var = X_test[i]\n",
    "            for j in range(0,len(X_train)):\n",
    "                train_var = X_train[j]\n",
    "                distance_test[(euclidean_distance(train_var,test_var)),j,i] =j \n",
    "            for it,a in enumerate(sorted(distance_test)):\n",
    "                if it < k:\n",
    "                    neighbours_test.append(y_train[distance_test[a]])\n",
    "            y_pred_test.append(predict_class(neighbours_test))\n",
    "            distance_test = dict()\n",
    "            neighbours_test = list()\n",
    "        mcrate_test.append(accuracy(y_test,y_pred_test))        \n",
    "        y_pred.append(y_pred_test)\n",
    "    return mcrate_test,y_pred"
   ]
  },
  {
   "cell_type": "markdown",
   "metadata": {},
   "source": [
    "### Importing the data"
   ]
  },
  {
   "cell_type": "code",
   "execution_count": 869,
   "metadata": {},
   "outputs": [
    {
     "data": {
      "text/html": [
       "<div>\n",
       "<style scoped>\n",
       "    .dataframe tbody tr th:only-of-type {\n",
       "        vertical-align: middle;\n",
       "    }\n",
       "\n",
       "    .dataframe tbody tr th {\n",
       "        vertical-align: top;\n",
       "    }\n",
       "\n",
       "    .dataframe thead th {\n",
       "        text-align: right;\n",
       "    }\n",
       "</style>\n",
       "<table border=\"1\" class=\"dataframe\">\n",
       "  <thead>\n",
       "    <tr style=\"text-align: right;\">\n",
       "      <th></th>\n",
       "      <th>sepal-length</th>\n",
       "      <th>sepal-width</th>\n",
       "      <th>petal-length</th>\n",
       "      <th>petal-width</th>\n",
       "      <th>class</th>\n",
       "    </tr>\n",
       "  </thead>\n",
       "  <tbody>\n",
       "    <tr>\n",
       "      <th>7</th>\n",
       "      <td>5.0</td>\n",
       "      <td>3.4</td>\n",
       "      <td>1.5</td>\n",
       "      <td>0.2</td>\n",
       "      <td>1</td>\n",
       "    </tr>\n",
       "    <tr>\n",
       "      <th>45</th>\n",
       "      <td>4.8</td>\n",
       "      <td>3.0</td>\n",
       "      <td>1.4</td>\n",
       "      <td>0.3</td>\n",
       "      <td>1</td>\n",
       "    </tr>\n",
       "    <tr>\n",
       "      <th>28</th>\n",
       "      <td>5.2</td>\n",
       "      <td>3.4</td>\n",
       "      <td>1.4</td>\n",
       "      <td>0.2</td>\n",
       "      <td>1</td>\n",
       "    </tr>\n",
       "    <tr>\n",
       "      <th>52</th>\n",
       "      <td>6.9</td>\n",
       "      <td>3.1</td>\n",
       "      <td>4.9</td>\n",
       "      <td>1.5</td>\n",
       "      <td>2</td>\n",
       "    </tr>\n",
       "    <tr>\n",
       "      <th>60</th>\n",
       "      <td>5.0</td>\n",
       "      <td>2.0</td>\n",
       "      <td>3.5</td>\n",
       "      <td>1.0</td>\n",
       "      <td>2</td>\n",
       "    </tr>\n",
       "  </tbody>\n",
       "</table>\n",
       "</div>"
      ],
      "text/plain": [
       "    sepal-length  sepal-width  petal-length  petal-width  class\n",
       "7            5.0          3.4           1.5          0.2      1\n",
       "45           4.8          3.0           1.4          0.3      1\n",
       "28           5.2          3.4           1.4          0.2      1\n",
       "52           6.9          3.1           4.9          1.5      2\n",
       "60           5.0          2.0           3.5          1.0      2"
      ]
     },
     "execution_count": 869,
     "metadata": {},
     "output_type": "execute_result"
    }
   ],
   "source": [
    "irisdata = pd.read_csv(\"iris.data\")\n",
    "irisdata = numeric_class(irisdata)\n",
    "irisdata.sample(5)"
   ]
  },
  {
   "cell_type": "markdown",
   "metadata": {},
   "source": [
    "### Split dataset to train and test"
   ]
  },
  {
   "cell_type": "code",
   "execution_count": 534,
   "metadata": {
    "scrolled": true
   },
   "outputs": [],
   "source": [
    "y = irisdata['class']\n",
    "X = irisdata.drop(columns='class')\n",
    "X_train, X_test, y_train, y_test = split_data(X,y,0.3)\n",
    "X_train = np.array(X_train)\n",
    "X_test = np.array(X_test)\n",
    "y_train = np.array(y_train)\n",
    "y_test = np.array(y_test)"
   ]
  },
  {
   "cell_type": "markdown",
   "metadata": {},
   "source": [
    "## Exercise 1"
   ]
  },
  {
   "cell_type": "markdown",
   "metadata": {},
   "source": [
    "### Function call to return prediction for a given query"
   ]
  },
  {
   "cell_type": "code",
   "execution_count": 563,
   "metadata": {},
   "outputs": [],
   "source": [
    "k = 15\n",
    "mcrate_test,y_pred = knn_(X_train, X_test, y_train, y_test,k)"
   ]
  },
  {
   "cell_type": "code",
   "execution_count": 568,
   "metadata": {},
   "outputs": [
    {
     "data": {
      "text/html": [
       "<div>\n",
       "<style scoped>\n",
       "    .dataframe tbody tr th:only-of-type {\n",
       "        vertical-align: middle;\n",
       "    }\n",
       "\n",
       "    .dataframe tbody tr th {\n",
       "        vertical-align: top;\n",
       "    }\n",
       "\n",
       "    .dataframe thead th {\n",
       "        text-align: right;\n",
       "    }\n",
       "</style>\n",
       "<table border=\"1\" class=\"dataframe\">\n",
       "  <thead>\n",
       "    <tr style=\"text-align: right;\">\n",
       "      <th></th>\n",
       "      <th>sepal-length</th>\n",
       "      <th>sepal-width</th>\n",
       "      <th>petal-length</th>\n",
       "      <th>petal-width</th>\n",
       "      <th>class</th>\n",
       "    </tr>\n",
       "  </thead>\n",
       "  <tbody>\n",
       "    <tr>\n",
       "      <th>0</th>\n",
       "      <td>5.1</td>\n",
       "      <td>3.5</td>\n",
       "      <td>1.4</td>\n",
       "      <td>0.2</td>\n",
       "      <td>1</td>\n",
       "    </tr>\n",
       "    <tr>\n",
       "      <th>1</th>\n",
       "      <td>4.9</td>\n",
       "      <td>3.0</td>\n",
       "      <td>1.4</td>\n",
       "      <td>0.2</td>\n",
       "      <td>1</td>\n",
       "    </tr>\n",
       "    <tr>\n",
       "      <th>2</th>\n",
       "      <td>4.7</td>\n",
       "      <td>3.2</td>\n",
       "      <td>1.3</td>\n",
       "      <td>0.2</td>\n",
       "      <td>1</td>\n",
       "    </tr>\n",
       "    <tr>\n",
       "      <th>3</th>\n",
       "      <td>4.6</td>\n",
       "      <td>3.1</td>\n",
       "      <td>1.5</td>\n",
       "      <td>0.2</td>\n",
       "      <td>1</td>\n",
       "    </tr>\n",
       "    <tr>\n",
       "      <th>4</th>\n",
       "      <td>5.0</td>\n",
       "      <td>3.6</td>\n",
       "      <td>1.4</td>\n",
       "      <td>0.2</td>\n",
       "      <td>1</td>\n",
       "    </tr>\n",
       "  </tbody>\n",
       "</table>\n",
       "</div>"
      ],
      "text/plain": [
       "   sepal-length  sepal-width  petal-length  petal-width  class\n",
       "0           5.1          3.5           1.4          0.2      1\n",
       "1           4.9          3.0           1.4          0.2      1\n",
       "2           4.7          3.2           1.3          0.2      1\n",
       "3           4.6          3.1           1.5          0.2      1\n",
       "4           5.0          3.6           1.4          0.2      1"
      ]
     },
     "execution_count": 568,
     "metadata": {},
     "output_type": "execute_result"
    }
   ],
   "source": [
    "irisdata.head()"
   ]
  },
  {
   "cell_type": "code",
   "execution_count": 614,
   "metadata": {},
   "outputs": [],
   "source": [
    "y_test_class = get_names(y_test)\n",
    "y_pred_class = get_names(y_pred[k-1])\n",
    "Prediction = pd.DataFrame(columns=X.columns)\n",
    "Prediction['sepal-length'] = X_test[:,0]\n",
    "Prediction['sepal-width'] = X_test[:,1]\n",
    "Prediction['petal-length'] = X_test[:,2]\n",
    "Prediction['petal-width'] = X_test[:,3]\n",
    "Prediction['class'] = y_test_class\n",
    "Prediction['Prediction Class'] = y_pred_class"
   ]
  },
  {
   "cell_type": "code",
   "execution_count": 655,
   "metadata": {},
   "outputs": [
    {
     "name": "stdout",
     "output_type": "stream",
     "text": [
      "\n",
      "K:  15\n",
      "Accuracy of prediction:  0.9777777777777777\n",
      "Number of misclassifications:  1.0 \n",
      "\n"
     ]
    },
    {
     "data": {
      "text/html": [
       "<div>\n",
       "<style scoped>\n",
       "    .dataframe tbody tr th:only-of-type {\n",
       "        vertical-align: middle;\n",
       "    }\n",
       "\n",
       "    .dataframe tbody tr th {\n",
       "        vertical-align: top;\n",
       "    }\n",
       "\n",
       "    .dataframe thead th {\n",
       "        text-align: right;\n",
       "    }\n",
       "</style>\n",
       "<table border=\"1\" class=\"dataframe\">\n",
       "  <thead>\n",
       "    <tr style=\"text-align: right;\">\n",
       "      <th></th>\n",
       "      <th>sepal-length</th>\n",
       "      <th>sepal-width</th>\n",
       "      <th>petal-length</th>\n",
       "      <th>petal-width</th>\n",
       "      <th>class</th>\n",
       "      <th>Prediction Class</th>\n",
       "    </tr>\n",
       "  </thead>\n",
       "  <tbody>\n",
       "    <tr>\n",
       "      <th>0</th>\n",
       "      <td>7.7</td>\n",
       "      <td>3.8</td>\n",
       "      <td>6.7</td>\n",
       "      <td>2.2</td>\n",
       "      <td>Iris-Virginica</td>\n",
       "      <td>Iris-Virginica</td>\n",
       "    </tr>\n",
       "    <tr>\n",
       "      <th>1</th>\n",
       "      <td>7.2</td>\n",
       "      <td>3.6</td>\n",
       "      <td>6.1</td>\n",
       "      <td>2.5</td>\n",
       "      <td>Iris-Virginica</td>\n",
       "      <td>Iris-Virginica</td>\n",
       "    </tr>\n",
       "    <tr>\n",
       "      <th>2</th>\n",
       "      <td>6.3</td>\n",
       "      <td>2.5</td>\n",
       "      <td>5.0</td>\n",
       "      <td>1.9</td>\n",
       "      <td>Iris-Virginica</td>\n",
       "      <td>Iris-Virginica</td>\n",
       "    </tr>\n",
       "    <tr>\n",
       "      <th>3</th>\n",
       "      <td>4.5</td>\n",
       "      <td>2.3</td>\n",
       "      <td>1.3</td>\n",
       "      <td>0.3</td>\n",
       "      <td>Iris-Setosa</td>\n",
       "      <td>Iris-Setosa</td>\n",
       "    </tr>\n",
       "    <tr>\n",
       "      <th>4</th>\n",
       "      <td>6.8</td>\n",
       "      <td>3.0</td>\n",
       "      <td>5.5</td>\n",
       "      <td>2.1</td>\n",
       "      <td>Iris-Virginica</td>\n",
       "      <td>Iris-Virginica</td>\n",
       "    </tr>\n",
       "    <tr>\n",
       "      <th>5</th>\n",
       "      <td>7.4</td>\n",
       "      <td>2.8</td>\n",
       "      <td>6.1</td>\n",
       "      <td>1.9</td>\n",
       "      <td>Iris-Virginica</td>\n",
       "      <td>Iris-Virginica</td>\n",
       "    </tr>\n",
       "    <tr>\n",
       "      <th>6</th>\n",
       "      <td>5.5</td>\n",
       "      <td>2.4</td>\n",
       "      <td>3.7</td>\n",
       "      <td>1.0</td>\n",
       "      <td>Iris-Versicolour</td>\n",
       "      <td>Iris-Versicolour</td>\n",
       "    </tr>\n",
       "    <tr>\n",
       "      <th>7</th>\n",
       "      <td>6.7</td>\n",
       "      <td>3.1</td>\n",
       "      <td>4.7</td>\n",
       "      <td>1.5</td>\n",
       "      <td>Iris-Versicolour</td>\n",
       "      <td>Iris-Versicolour</td>\n",
       "    </tr>\n",
       "    <tr>\n",
       "      <th>8</th>\n",
       "      <td>6.7</td>\n",
       "      <td>3.1</td>\n",
       "      <td>4.4</td>\n",
       "      <td>1.4</td>\n",
       "      <td>Iris-Versicolour</td>\n",
       "      <td>Iris-Versicolour</td>\n",
       "    </tr>\n",
       "    <tr>\n",
       "      <th>9</th>\n",
       "      <td>5.4</td>\n",
       "      <td>3.4</td>\n",
       "      <td>1.7</td>\n",
       "      <td>0.2</td>\n",
       "      <td>Iris-Setosa</td>\n",
       "      <td>Iris-Setosa</td>\n",
       "    </tr>\n",
       "  </tbody>\n",
       "</table>\n",
       "</div>"
      ],
      "text/plain": [
       "   sepal-length  sepal-width  petal-length  petal-width             class  \\\n",
       "0           7.7          3.8           6.7          2.2    Iris-Virginica   \n",
       "1           7.2          3.6           6.1          2.5    Iris-Virginica   \n",
       "2           6.3          2.5           5.0          1.9    Iris-Virginica   \n",
       "3           4.5          2.3           1.3          0.3       Iris-Setosa   \n",
       "4           6.8          3.0           5.5          2.1    Iris-Virginica   \n",
       "5           7.4          2.8           6.1          1.9    Iris-Virginica   \n",
       "6           5.5          2.4           3.7          1.0  Iris-Versicolour   \n",
       "7           6.7          3.1           4.7          1.5  Iris-Versicolour   \n",
       "8           6.7          3.1           4.4          1.4  Iris-Versicolour   \n",
       "9           5.4          3.4           1.7          0.2       Iris-Setosa   \n",
       "\n",
       "   Prediction Class  \n",
       "0    Iris-Virginica  \n",
       "1    Iris-Virginica  \n",
       "2    Iris-Virginica  \n",
       "3       Iris-Setosa  \n",
       "4    Iris-Virginica  \n",
       "5    Iris-Virginica  \n",
       "6  Iris-Versicolour  \n",
       "7  Iris-Versicolour  \n",
       "8  Iris-Versicolour  \n",
       "9       Iris-Setosa  "
      ]
     },
     "execution_count": 655,
     "metadata": {},
     "output_type": "execute_result"
    }
   ],
   "source": [
    "print(\"\\nK: \",k)\n",
    "print(\"Accuracy of prediction: \",mcrate_test[k-1])\n",
    "print(\"Number of misclassifications: \", len(y_test) - (mcrate_test[k-1] * len(y_test)),\"\\n\")\n",
    "Prediction.head(10)"
   ]
  },
  {
   "cell_type": "markdown",
   "metadata": {},
   "source": [
    "### Optimize and compare KNN algorithm"
   ]
  },
  {
   "cell_type": "code",
   "execution_count": 625,
   "metadata": {},
   "outputs": [],
   "source": [
    "fold_mcrate = kfold(X_train,y_train,10,k)\n",
    "mcrate_cv = list()\n",
    "for i in range(0,k):\n",
    "    mcrate_cv.append(np.average(fold_mcrate[:,i]))"
   ]
  },
  {
   "cell_type": "code",
   "execution_count": 653,
   "metadata": {},
   "outputs": [
    {
     "data": {
      "text/html": [
       "<div>\n",
       "<style scoped>\n",
       "    .dataframe tbody tr th:only-of-type {\n",
       "        vertical-align: middle;\n",
       "    }\n",
       "\n",
       "    .dataframe tbody tr th {\n",
       "        vertical-align: top;\n",
       "    }\n",
       "\n",
       "    .dataframe thead th {\n",
       "        text-align: right;\n",
       "    }\n",
       "</style>\n",
       "<table border=\"1\" class=\"dataframe\">\n",
       "  <thead>\n",
       "    <tr style=\"text-align: right;\">\n",
       "      <th></th>\n",
       "      <th>1</th>\n",
       "      <th>2</th>\n",
       "      <th>3</th>\n",
       "      <th>4</th>\n",
       "      <th>5</th>\n",
       "      <th>6</th>\n",
       "      <th>7</th>\n",
       "      <th>8</th>\n",
       "      <th>9</th>\n",
       "      <th>10</th>\n",
       "      <th>11</th>\n",
       "      <th>12</th>\n",
       "      <th>13</th>\n",
       "      <th>14</th>\n",
       "      <th>15</th>\n",
       "    </tr>\n",
       "  </thead>\n",
       "  <tbody>\n",
       "    <tr>\n",
       "      <th>0</th>\n",
       "      <td>0.936364</td>\n",
       "      <td>0.918182</td>\n",
       "      <td>0.945455</td>\n",
       "      <td>0.936364</td>\n",
       "      <td>0.954545</td>\n",
       "      <td>0.945455</td>\n",
       "      <td>0.954545</td>\n",
       "      <td>0.937879</td>\n",
       "      <td>0.937879</td>\n",
       "      <td>0.94697</td>\n",
       "      <td>0.94697</td>\n",
       "      <td>0.94697</td>\n",
       "      <td>0.963636</td>\n",
       "      <td>0.937879</td>\n",
       "      <td>0.963636</td>\n",
       "    </tr>\n",
       "  </tbody>\n",
       "</table>\n",
       "</div>"
      ],
      "text/plain": [
       "         1         2         3         4         5         6         7   \\\n",
       "0  0.936364  0.918182  0.945455  0.936364  0.954545  0.945455  0.954545   \n",
       "\n",
       "         8         9        10       11       12        13        14        15  \n",
       "0  0.937879  0.937879  0.94697  0.94697  0.94697  0.963636  0.937879  0.963636  "
      ]
     },
     "execution_count": 653,
     "metadata": {},
     "output_type": "execute_result"
    }
   ],
   "source": [
    "optimaldata = pd.DataFrame(columns=range(1,k+1))\n",
    "optimaldata.loc[0] = mcrate_cv\n",
    "optimaldata"
   ]
  },
  {
   "cell_type": "code",
   "execution_count": 654,
   "metadata": {},
   "outputs": [
    {
     "name": "stdout",
     "output_type": "stream",
     "text": [
      "\n",
      " Optimal K:  13\n",
      " Accuracy:  0.9636363636363636\n"
     ]
    },
    {
     "data": {
      "image/png": "[encoded data removed]",
      "text/plain": [
       "<Figure size 720x432 with 1 Axes>"
      ]
     },
     "metadata": {
      "needs_background": "light"
     },
     "output_type": "display_data"
    },
    {
     "data": {
      "text/html": [
       "<div>\n",
       "<style scoped>\n",
       "    .dataframe tbody tr th:only-of-type {\n",
       "        vertical-align: middle;\n",
       "    }\n",
       "\n",
       "    .dataframe tbody tr th {\n",
       "        vertical-align: top;\n",
       "    }\n",
       "\n",
       "    .dataframe thead th {\n",
       "        text-align: right;\n",
       "    }\n",
       "</style>\n",
       "<table border=\"1\" class=\"dataframe\">\n",
       "  <thead>\n",
       "    <tr style=\"text-align: right;\">\n",
       "      <th></th>\n",
       "      <th>1</th>\n",
       "      <th>2</th>\n",
       "      <th>3</th>\n",
       "      <th>4</th>\n",
       "      <th>5</th>\n",
       "      <th>6</th>\n",
       "      <th>7</th>\n",
       "      <th>8</th>\n",
       "      <th>9</th>\n",
       "      <th>10</th>\n",
       "      <th>11</th>\n",
       "      <th>12</th>\n",
       "      <th>13</th>\n",
       "      <th>14</th>\n",
       "      <th>15</th>\n",
       "    </tr>\n",
       "  </thead>\n",
       "  <tbody>\n",
       "    <tr>\n",
       "      <th>0</th>\n",
       "      <td>0.936364</td>\n",
       "      <td>0.918182</td>\n",
       "      <td>0.945455</td>\n",
       "      <td>0.936364</td>\n",
       "      <td>0.954545</td>\n",
       "      <td>0.945455</td>\n",
       "      <td>0.954545</td>\n",
       "      <td>0.937879</td>\n",
       "      <td>0.937879</td>\n",
       "      <td>0.94697</td>\n",
       "      <td>0.94697</td>\n",
       "      <td>0.94697</td>\n",
       "      <td>0.963636</td>\n",
       "      <td>0.937879</td>\n",
       "      <td>0.963636</td>\n",
       "    </tr>\n",
       "  </tbody>\n",
       "</table>\n",
       "</div>"
      ],
      "text/plain": [
       "         1         2         3         4         5         6         7   \\\n",
       "0  0.936364  0.918182  0.945455  0.936364  0.954545  0.945455  0.954545   \n",
       "\n",
       "         8         9        10       11       12        13        14        15  \n",
       "0  0.937879  0.937879  0.94697  0.94697  0.94697  0.963636  0.937879  0.963636  "
      ]
     },
     "execution_count": 654,
     "metadata": {},
     "output_type": "execute_result"
    }
   ],
   "source": [
    "print(\"\\n Optimal K: \" ,mcrate_cv.index(max(mcrate_cv))+1)\n",
    "print(\" Accuracy: \",max(mcrate_cv))\n",
    "plt.figure(figsize=(10,6))\n",
    "plt.plot(mcrate_cv)\n",
    "plt.grid()\n",
    "plt.title(\"Accuracy with 10-fold Cross validation (K vs Accuracy) \")\n",
    "plt.plot(mcrate_cv.index(max(mcrate_cv)),max(mcrate_cv),'ro')\n",
    "plt.xlabel(\"K\")\n",
    "plt.ylabel(\"Cross Validation Accuracy\")\n",
    "plt.show()"
   ]
  },
  {
   "cell_type": "markdown",
   "metadata": {},
   "source": [
    "### Classification using Nearest neighbour  - sklearn"
   ]
  },
  {
   "cell_type": "code",
   "execution_count": 695,
   "metadata": {
    "scrolled": true
   },
   "outputs": [],
   "source": [
    "def knn_classifier(X_train,X_test,y_train,y_test,k):\n",
    "    k_scores = list()\n",
    "    knn = KNeighborsClassifier(n_neighbors=k)\n",
    "    knn.fit(X_train,y_train)\n",
    "    y_pred = knn.predict(X_test)\n",
    "    return y_pred"
   ]
  },
  {
   "cell_type": "code",
   "execution_count": 697,
   "metadata": {},
   "outputs": [],
   "source": [
    "k = 15\n",
    "y_pred = knn_classifier(X_train,X_test,y_train,y_test,k)"
   ]
  },
  {
   "cell_type": "code",
   "execution_count": 698,
   "metadata": {},
   "outputs": [],
   "source": [
    "y_pred_class = get_names(y_pred)\n",
    "Prediction = pd.DataFrame(columns=X.columns)\n",
    "Prediction['sepal-length'] = X_test[:,0]\n",
    "Prediction['sepal-width'] = X_test[:,1]\n",
    "Prediction['petal-length'] = X_test[:,2]\n",
    "Prediction['petal-width'] = X_test[:,3]\n",
    "Prediction['class'] = y_test_class\n",
    "Prediction['Prediction Class'] = y_pred_class"
   ]
  },
  {
   "cell_type": "code",
   "execution_count": 699,
   "metadata": {},
   "outputs": [
    {
     "name": "stdout",
     "output_type": "stream",
     "text": [
      "\n",
      "K:  15\n",
      "Accuracy of prediction:  0.9777777777777777\n",
      "Number of misclassifications:  1.0 \n",
      "\n"
     ]
    },
    {
     "data": {
      "text/html": [
       "<div>\n",
       "<style scoped>\n",
       "    .dataframe tbody tr th:only-of-type {\n",
       "        vertical-align: middle;\n",
       "    }\n",
       "\n",
       "    .dataframe tbody tr th {\n",
       "        vertical-align: top;\n",
       "    }\n",
       "\n",
       "    .dataframe thead th {\n",
       "        text-align: right;\n",
       "    }\n",
       "</style>\n",
       "<table border=\"1\" class=\"dataframe\">\n",
       "  <thead>\n",
       "    <tr style=\"text-align: right;\">\n",
       "      <th></th>\n",
       "      <th>sepal-length</th>\n",
       "      <th>sepal-width</th>\n",
       "      <th>petal-length</th>\n",
       "      <th>petal-width</th>\n",
       "      <th>class</th>\n",
       "      <th>Prediction Class</th>\n",
       "    </tr>\n",
       "  </thead>\n",
       "  <tbody>\n",
       "    <tr>\n",
       "      <th>17</th>\n",
       "      <td>6.4</td>\n",
       "      <td>2.8</td>\n",
       "      <td>5.6</td>\n",
       "      <td>2.1</td>\n",
       "      <td>Iris-Virginica</td>\n",
       "      <td>Iris-Virginica</td>\n",
       "    </tr>\n",
       "    <tr>\n",
       "      <th>37</th>\n",
       "      <td>6.5</td>\n",
       "      <td>3.0</td>\n",
       "      <td>5.8</td>\n",
       "      <td>2.2</td>\n",
       "      <td>Iris-Virginica</td>\n",
       "      <td>Iris-Virginica</td>\n",
       "    </tr>\n",
       "    <tr>\n",
       "      <th>10</th>\n",
       "      <td>6.9</td>\n",
       "      <td>3.1</td>\n",
       "      <td>4.9</td>\n",
       "      <td>1.5</td>\n",
       "      <td>Iris-Versicolour</td>\n",
       "      <td>Iris-Versicolour</td>\n",
       "    </tr>\n",
       "    <tr>\n",
       "      <th>14</th>\n",
       "      <td>7.7</td>\n",
       "      <td>3.0</td>\n",
       "      <td>6.1</td>\n",
       "      <td>2.3</td>\n",
       "      <td>Iris-Virginica</td>\n",
       "      <td>Iris-Virginica</td>\n",
       "    </tr>\n",
       "    <tr>\n",
       "      <th>22</th>\n",
       "      <td>5.1</td>\n",
       "      <td>3.5</td>\n",
       "      <td>1.4</td>\n",
       "      <td>0.3</td>\n",
       "      <td>Iris-Setosa</td>\n",
       "      <td>Iris-Setosa</td>\n",
       "    </tr>\n",
       "    <tr>\n",
       "      <th>24</th>\n",
       "      <td>6.1</td>\n",
       "      <td>3.0</td>\n",
       "      <td>4.9</td>\n",
       "      <td>1.8</td>\n",
       "      <td>Iris-Virginica</td>\n",
       "      <td>Iris-Virginica</td>\n",
       "    </tr>\n",
       "    <tr>\n",
       "      <th>21</th>\n",
       "      <td>6.0</td>\n",
       "      <td>2.9</td>\n",
       "      <td>4.5</td>\n",
       "      <td>1.5</td>\n",
       "      <td>Iris-Versicolour</td>\n",
       "      <td>Iris-Versicolour</td>\n",
       "    </tr>\n",
       "    <tr>\n",
       "      <th>13</th>\n",
       "      <td>4.6</td>\n",
       "      <td>3.6</td>\n",
       "      <td>1.0</td>\n",
       "      <td>0.2</td>\n",
       "      <td>Iris-Setosa</td>\n",
       "      <td>Iris-Setosa</td>\n",
       "    </tr>\n",
       "    <tr>\n",
       "      <th>15</th>\n",
       "      <td>6.8</td>\n",
       "      <td>3.2</td>\n",
       "      <td>5.9</td>\n",
       "      <td>2.3</td>\n",
       "      <td>Iris-Virginica</td>\n",
       "      <td>Iris-Virginica</td>\n",
       "    </tr>\n",
       "    <tr>\n",
       "      <th>33</th>\n",
       "      <td>5.1</td>\n",
       "      <td>3.8</td>\n",
       "      <td>1.6</td>\n",
       "      <td>0.2</td>\n",
       "      <td>Iris-Setosa</td>\n",
       "      <td>Iris-Setosa</td>\n",
       "    </tr>\n",
       "  </tbody>\n",
       "</table>\n",
       "</div>"
      ],
      "text/plain": [
       "    sepal-length  sepal-width  petal-length  petal-width             class  \\\n",
       "17           6.4          2.8           5.6          2.1    Iris-Virginica   \n",
       "37           6.5          3.0           5.8          2.2    Iris-Virginica   \n",
       "10           6.9          3.1           4.9          1.5  Iris-Versicolour   \n",
       "14           7.7          3.0           6.1          2.3    Iris-Virginica   \n",
       "22           5.1          3.5           1.4          0.3       Iris-Setosa   \n",
       "24           6.1          3.0           4.9          1.8    Iris-Virginica   \n",
       "21           6.0          2.9           4.5          1.5  Iris-Versicolour   \n",
       "13           4.6          3.6           1.0          0.2       Iris-Setosa   \n",
       "15           6.8          3.2           5.9          2.3    Iris-Virginica   \n",
       "33           5.1          3.8           1.6          0.2       Iris-Setosa   \n",
       "\n",
       "    Prediction Class  \n",
       "17    Iris-Virginica  \n",
       "37    Iris-Virginica  \n",
       "10  Iris-Versicolour  \n",
       "14    Iris-Virginica  \n",
       "22       Iris-Setosa  \n",
       "24    Iris-Virginica  \n",
       "21  Iris-Versicolour  \n",
       "13       Iris-Setosa  \n",
       "15    Iris-Virginica  \n",
       "33       Iris-Setosa  "
      ]
     },
     "execution_count": 699,
     "metadata": {},
     "output_type": "execute_result"
    }
   ],
   "source": [
    "print(\"\\nK: \",k)\n",
    "print(\"Accuracy of prediction: \",accuracy(y_test,y_pred))\n",
    "print(\"Number of misclassifications: \", len(y_test) - (accuracy(y_test,y_pred) * len(y_test)),\"\\n\")\n",
    "Prediction.sample(10)"
   ]
  },
  {
   "cell_type": "markdown",
   "metadata": {},
   "source": [
    "### To find optimal hyperparameter for nearest neighbour classifier"
   ]
  },
  {
   "cell_type": "code",
   "execution_count": 873,
   "metadata": {},
   "outputs": [
    {
     "name": "stdout",
     "output_type": "stream",
     "text": [
      "{'n_neighbors': [1, 2, 3, 4, 5, 6, 7, 8, 9, 10, 11, 12, 13, 14, 15, 16, 17, 18, 19, 20, 21, 22, 23, 24, 25, 26, 27, 28, 29]}\n"
     ]
    },
    {
     "data": {
      "text/plain": [
       "GridSearchCV(cv=10, error_score='raise-deprecating',\n",
       "       estimator=KNeighborsClassifier(algorithm='auto', leaf_size=30, metric='minkowski',\n",
       "           metric_params=None, n_jobs=None, n_neighbors=5, p=2,\n",
       "           weights='uniform'),\n",
       "       fit_params=None, iid='warn', n_jobs=None,\n",
       "       param_grid={'n_neighbors': [1, 2, 3, 4, 5, 6, 7, 8, 9, 10, 11, 12, 13, 14, 15, 16, 17, 18, 19, 20, 21, 22, 23, 24, 25, 26, 27, 28, 29]},\n",
       "       pre_dispatch='2*n_jobs', refit=True, return_train_score='warn',\n",
       "       scoring='accuracy', verbose=0)"
      ]
     },
     "execution_count": 873,
     "metadata": {},
     "output_type": "execute_result"
    }
   ],
   "source": [
    "k_range = list(range(1, 30))\n",
    "param_grid = dict(n_neighbors=k_range)\n",
    "print(param_grid)\n",
    "knn = KNeighborsClassifier()\n",
    "grid = GridSearchCV(knn, param_grid, cv=10, scoring='accuracy')\n",
    "grid.fit(X_train, y_train)"
   ]
  },
  {
   "cell_type": "code",
   "execution_count": 874,
   "metadata": {},
   "outputs": [
    {
     "data": {
      "text/plain": [
       "GridSearchCV(cv=10, error_score='raise-deprecating',\n",
       "       estimator=KNeighborsClassifier(algorithm='auto', leaf_size=30, metric='minkowski',\n",
       "           metric_params=None, n_jobs=None, n_neighbors=5, p=2,\n",
       "           weights='uniform'),\n",
       "       fit_params=None, iid='warn', n_jobs=None,\n",
       "       param_grid={'n_neighbors': [1, 2, 3, 4, 5, 6, 7, 8, 9, 10, 11, 12, 13, 14, 15, 16, 17, 18, 19, 20, 21, 22, 23, 24, 25, 26, 27, 28, 29]},\n",
       "       pre_dispatch='2*n_jobs', refit=True, return_train_score='warn',\n",
       "       scoring='accuracy', verbose=0)"
      ]
     },
     "execution_count": 874,
     "metadata": {},
     "output_type": "execute_result"
    }
   ],
   "source": [
    "knn = KNeighborsClassifier()\n",
    "grid = GridSearchCV(knn, param_grid, cv=10, scoring='accuracy')\n",
    "grid.fit(X_train, y_train)"
   ]
  },
  {
   "cell_type": "code",
   "execution_count": 875,
   "metadata": {},
   "outputs": [
    {
     "data": {
      "text/plain": [
       "({'n_neighbors': 10}, 0.9714285714285714)"
      ]
     },
     "execution_count": 875,
     "metadata": {},
     "output_type": "execute_result"
    }
   ],
   "source": [
    "grid.best_params_,grid.best_score_"
   ]
  },
  {
   "cell_type": "code",
   "execution_count": 876,
   "metadata": {},
   "outputs": [
    {
     "data": {
      "image/png": "[encoded data removed]",
      "text/plain": [
       "<Figure size 720x432 with 1 Axes>"
      ]
     },
     "metadata": {
      "needs_background": "light"
     },
     "output_type": "display_data"
    }
   ],
   "source": [
    "plt.figure(figsize=(10,6))\n",
    "plt.grid()\n",
    "plt.plot(grid.cv_results_['mean_test_score'])\n",
    "plt.title(\"Mean cross validation score with KNN Classifier (K vs Cross Validation Accuracy) \")\n",
    "plt.plot(grid.best_estimator_.n_neighbors-1,grid.best_score_,'ro')\n",
    "plt.xlabel(\"K\")\n",
    "plt.ylabel(\"Cross Validation Accuracy\")\n",
    "plt.show()"
   ]
  },
  {
   "cell_type": "code",
   "execution_count": 877,
   "metadata": {},
   "outputs": [],
   "source": [
    "knn = KNeighborsClassifier(n_neighbors = grid.best_estimator_.n_neighbors)\n",
    "knn.fit(X_train,y_train)\n",
    "y_pred = knn.predict(X_test)"
   ]
  },
  {
   "cell_type": "code",
   "execution_count": 878,
   "metadata": {},
   "outputs": [],
   "source": [
    "y_pred_class = get_names(y_pred)\n",
    "Prediction = pd.DataFrame(columns=X.columns)\n",
    "Prediction['sepal-length'] = X_test[:,0]\n",
    "Prediction['sepal-width'] = X_test[:,1]\n",
    "Prediction['petal-length'] = X_test[:,2]\n",
    "Prediction['petal-width'] = X_test[:,3]\n",
    "Prediction['class'] = y_test_class\n",
    "Prediction['Prediction Class'] = y_pred_class"
   ]
  },
  {
   "cell_type": "code",
   "execution_count": 879,
   "metadata": {},
   "outputs": [
    {
     "name": "stdout",
     "output_type": "stream",
     "text": [
      "\n",
      "Optimal parameter:  10\n",
      "Accuracy of prediction:  0.9777777777777777\n",
      "Number of misclassifications:  1.0 \n",
      "\n"
     ]
    },
    {
     "data": {
      "text/html": [
       "<div>\n",
       "<style scoped>\n",
       "    .dataframe tbody tr th:only-of-type {\n",
       "        vertical-align: middle;\n",
       "    }\n",
       "\n",
       "    .dataframe tbody tr th {\n",
       "        vertical-align: top;\n",
       "    }\n",
       "\n",
       "    .dataframe thead th {\n",
       "        text-align: right;\n",
       "    }\n",
       "</style>\n",
       "<table border=\"1\" class=\"dataframe\">\n",
       "  <thead>\n",
       "    <tr style=\"text-align: right;\">\n",
       "      <th></th>\n",
       "      <th>sepal-length</th>\n",
       "      <th>sepal-width</th>\n",
       "      <th>petal-length</th>\n",
       "      <th>petal-width</th>\n",
       "      <th>class</th>\n",
       "      <th>Prediction Class</th>\n",
       "    </tr>\n",
       "  </thead>\n",
       "  <tbody>\n",
       "    <tr>\n",
       "      <th>5</th>\n",
       "      <td>7.4</td>\n",
       "      <td>2.8</td>\n",
       "      <td>6.1</td>\n",
       "      <td>1.9</td>\n",
       "      <td>Iris-Virginica</td>\n",
       "      <td>Iris-Virginica</td>\n",
       "    </tr>\n",
       "    <tr>\n",
       "      <th>0</th>\n",
       "      <td>7.7</td>\n",
       "      <td>3.8</td>\n",
       "      <td>6.7</td>\n",
       "      <td>2.2</td>\n",
       "      <td>Iris-Virginica</td>\n",
       "      <td>Iris-Virginica</td>\n",
       "    </tr>\n",
       "    <tr>\n",
       "      <th>28</th>\n",
       "      <td>5.0</td>\n",
       "      <td>3.6</td>\n",
       "      <td>1.4</td>\n",
       "      <td>0.2</td>\n",
       "      <td>Iris-Setosa</td>\n",
       "      <td>Iris-Setosa</td>\n",
       "    </tr>\n",
       "    <tr>\n",
       "      <th>27</th>\n",
       "      <td>5.4</td>\n",
       "      <td>3.4</td>\n",
       "      <td>1.5</td>\n",
       "      <td>0.4</td>\n",
       "      <td>Iris-Setosa</td>\n",
       "      <td>Iris-Setosa</td>\n",
       "    </tr>\n",
       "    <tr>\n",
       "      <th>11</th>\n",
       "      <td>6.7</td>\n",
       "      <td>3.1</td>\n",
       "      <td>5.6</td>\n",
       "      <td>2.4</td>\n",
       "      <td>Iris-Virginica</td>\n",
       "      <td>Iris-Virginica</td>\n",
       "    </tr>\n",
       "    <tr>\n",
       "      <th>34</th>\n",
       "      <td>4.8</td>\n",
       "      <td>3.4</td>\n",
       "      <td>1.9</td>\n",
       "      <td>0.2</td>\n",
       "      <td>Iris-Setosa</td>\n",
       "      <td>Iris-Setosa</td>\n",
       "    </tr>\n",
       "    <tr>\n",
       "      <th>36</th>\n",
       "      <td>5.6</td>\n",
       "      <td>2.5</td>\n",
       "      <td>3.9</td>\n",
       "      <td>1.1</td>\n",
       "      <td>Iris-Versicolour</td>\n",
       "      <td>Iris-Versicolour</td>\n",
       "    </tr>\n",
       "    <tr>\n",
       "      <th>20</th>\n",
       "      <td>4.8</td>\n",
       "      <td>3.0</td>\n",
       "      <td>1.4</td>\n",
       "      <td>0.3</td>\n",
       "      <td>Iris-Setosa</td>\n",
       "      <td>Iris-Setosa</td>\n",
       "    </tr>\n",
       "    <tr>\n",
       "      <th>30</th>\n",
       "      <td>5.4</td>\n",
       "      <td>3.7</td>\n",
       "      <td>1.5</td>\n",
       "      <td>0.2</td>\n",
       "      <td>Iris-Setosa</td>\n",
       "      <td>Iris-Setosa</td>\n",
       "    </tr>\n",
       "    <tr>\n",
       "      <th>42</th>\n",
       "      <td>5.2</td>\n",
       "      <td>2.7</td>\n",
       "      <td>3.9</td>\n",
       "      <td>1.4</td>\n",
       "      <td>Iris-Versicolour</td>\n",
       "      <td>Iris-Versicolour</td>\n",
       "    </tr>\n",
       "  </tbody>\n",
       "</table>\n",
       "</div>"
      ],
      "text/plain": [
       "    sepal-length  sepal-width  petal-length  petal-width             class  \\\n",
       "5            7.4          2.8           6.1          1.9    Iris-Virginica   \n",
       "0            7.7          3.8           6.7          2.2    Iris-Virginica   \n",
       "28           5.0          3.6           1.4          0.2       Iris-Setosa   \n",
       "27           5.4          3.4           1.5          0.4       Iris-Setosa   \n",
       "11           6.7          3.1           5.6          2.4    Iris-Virginica   \n",
       "34           4.8          3.4           1.9          0.2       Iris-Setosa   \n",
       "36           5.6          2.5           3.9          1.1  Iris-Versicolour   \n",
       "20           4.8          3.0           1.4          0.3       Iris-Setosa   \n",
       "30           5.4          3.7           1.5          0.2       Iris-Setosa   \n",
       "42           5.2          2.7           3.9          1.4  Iris-Versicolour   \n",
       "\n",
       "    Prediction Class  \n",
       "5     Iris-Virginica  \n",
       "0     Iris-Virginica  \n",
       "28       Iris-Setosa  \n",
       "27       Iris-Setosa  \n",
       "11    Iris-Virginica  \n",
       "34       Iris-Setosa  \n",
       "36  Iris-Versicolour  \n",
       "20       Iris-Setosa  \n",
       "30       Iris-Setosa  \n",
       "42  Iris-Versicolour  "
      ]
     },
     "execution_count": 879,
     "metadata": {},
     "output_type": "execute_result"
    }
   ],
   "source": [
    "print(\"\\nOptimal parameter: \",grid.best_estimator_.n_neighbors)\n",
    "print(\"Accuracy of prediction: \",accuracy(y_test,y_pred))\n",
    "print(\"Number of misclassifications: \", len(y_test) - (accuracy(y_test,y_pred) * len(y_test)),\"\\n\")\n",
    "Prediction.sample(10)"
   ]
  },
  {
   "cell_type": "code",
   "execution_count": 850,
   "metadata": {},
   "outputs": [
    {
     "data": {
      "image/png": "[encoded data removed]",
      "text/plain": [
       "<Figure size 720x432 with 1 Axes>"
      ]
     },
     "metadata": {
      "needs_background": "light"
     },
     "output_type": "display_data"
    }
   ],
   "source": [
    "plt.figure(figsize=(10,6))\n",
    "flag1 = True\n",
    "flag2 = True\n",
    "flag3 = True\n",
    "flag4 = True\n",
    "for i in Prediction.values:\n",
    "    if i[4] == 'Iris-Setosa':\n",
    "        if flag1:\n",
    "            plt.plot(i[2],i[3],'b+',label = 'Iris-Setosa')\n",
    "            flag1 = False\n",
    "        else:\n",
    "            plt.plot(i[2],i[3],'b+')\n",
    "\n",
    "    if i[4] == 'Iris-Versicolour':\n",
    "        if flag2:\n",
    "            plt.plot(i[2],i[3],'r+',label = 'Iris-Versicolour')\n",
    "            flag2 = False\n",
    "        else:\n",
    "            plt.plot(i[2],i[3],'r+')\n",
    "            \n",
    "    if i[4] == 'Iris-Virginica':\n",
    "        if flag3:\n",
    "            plt.plot(i[2],i[3],'g+',label = 'Iris-Virginica')\n",
    "            flag3 = False\n",
    "        else:\n",
    "            plt.plot(i[2],i[3],'g+')\n",
    "            \n",
    "    if i[4] != i[5]:\n",
    "        if flag4:\n",
    "            plt.plot(i[2],i[3],'mo',label = 'Misclassified')\n",
    "            flag4=False\n",
    "        else:\n",
    "            plt.plot(i[2],i[3],'mo')\n",
    "plt.legend()\n",
    "plt.title(\"Classification with best hyperparameter using Grid Search\")\n",
    "plt.xlabel(\"Petal length\")\n",
    "plt.ylabel(\"Petal width\")\n",
    "plt.show()"
   ]
  },
  {
   "cell_type": "markdown",
   "metadata": {},
   "source": [
    "### Classification using Decision Tree Classifier - sklearn"
   ]
  },
  {
   "cell_type": "code",
   "execution_count": 777,
   "metadata": {},
   "outputs": [],
   "source": [
    "def DecTreeClassifier(X_train,X_test,y_train,y_test):\n",
    "    \n",
    "    classifier = DecisionTreeClassifier(random_state=0)\n",
    "    classifier.fit(X_train,y_train)\n",
    "    print(classifier.get_params)\n",
    "    y_pred = classifier.predict(X_test)\n",
    "    return y_pred"
   ]
  },
  {
   "cell_type": "code",
   "execution_count": 788,
   "metadata": {},
   "outputs": [
    {
     "name": "stdout",
     "output_type": "stream",
     "text": [
      "<bound method BaseEstimator.get_params of DecisionTreeClassifier(class_weight=None, criterion='gini', max_depth=None,\n",
      "            max_features=None, max_leaf_nodes=None,\n",
      "            min_impurity_decrease=0.0, min_impurity_split=None,\n",
      "            min_samples_leaf=1, min_samples_split=2,\n",
      "            min_weight_fraction_leaf=0.0, presort=False, random_state=0,\n",
      "            splitter='best')>\n"
     ]
    },
    {
     "data": {
      "text/plain": [
       "0.9777777777777777"
      ]
     },
     "execution_count": 788,
     "metadata": {},
     "output_type": "execute_result"
    }
   ],
   "source": [
    "y_pred = DecTreeClassifier(X_train,X_test,y_train,y_test)\n",
    "acc = accuracy(y_pred,y_test)\n",
    "acc"
   ]
  },
  {
   "cell_type": "code",
   "execution_count": 862,
   "metadata": {},
   "outputs": [
    {
     "name": "stdout",
     "output_type": "stream",
     "text": [
      "{'min_samples_split': array([0.1 , 0.55, 1.  ]), 'max_depth': range(1, 5)}\n"
     ]
    }
   ],
   "source": [
    "min_samples_splits = np.linspace(0.1, 1.0, 3, endpoint=True)\n",
    "max_depth = range(1,5)\n",
    "param_grid = dict(min_samples_split=min_samples_splits,max_depth = max_depth)\n",
    "print(param_grid)"
   ]
  },
  {
   "cell_type": "code",
   "execution_count": 863,
   "metadata": {},
   "outputs": [],
   "source": [
    "grid = GridSearchCV(DecisionTreeClassifier(), param_grid)"
   ]
  },
  {
   "cell_type": "code",
   "execution_count": 864,
   "metadata": {},
   "outputs": [
    {
     "data": {
      "text/plain": [
       "GridSearchCV(cv='warn', error_score='raise-deprecating',\n",
       "       estimator=DecisionTreeClassifier(class_weight=None, criterion='gini', max_depth=None,\n",
       "            max_features=None, max_leaf_nodes=None,\n",
       "            min_impurity_decrease=0.0, min_impurity_split=None,\n",
       "            min_samples_leaf=1, min_samples_split=2,\n",
       "            min_weight_fraction_leaf=0.0, presort=False, random_state=None,\n",
       "            splitter='best'),\n",
       "       fit_params=None, iid='warn', n_jobs=None,\n",
       "       param_grid={'min_samples_split': array([0.1 , 0.55, 1.  ]), 'max_depth': range(1, 5)},\n",
       "       pre_dispatch='2*n_jobs', refit=True, return_train_score='warn',\n",
       "       scoring=None, verbose=0)"
      ]
     },
     "execution_count": 864,
     "metadata": {},
     "output_type": "execute_result"
    }
   ],
   "source": [
    "grid.fit(X_train,y_train)"
   ]
  },
  {
   "cell_type": "code",
   "execution_count": 865,
   "metadata": {},
   "outputs": [
    {
     "data": {
      "text/plain": [
       "({'max_depth': 2, 'min_samples_split': 0.1}, 0.9238095238095239)"
      ]
     },
     "execution_count": 865,
     "metadata": {},
     "output_type": "execute_result"
    }
   ],
   "source": [
    "grid.best_params_,grid.best_score_"
   ]
  },
  {
   "cell_type": "code",
   "execution_count": 866,
   "metadata": {},
   "outputs": [
    {
     "data": {
      "text/plain": [
       "3"
      ]
     },
     "execution_count": 866,
     "metadata": {},
     "output_type": "execute_result"
    }
   ],
   "source": [
    "grid.best_index_"
   ]
  },
  {
   "cell_type": "code",
   "execution_count": 867,
   "metadata": {},
   "outputs": [
    {
     "data": {
      "image/png": "[encoded data removed]",
      "text/plain": [
       "<Figure size 720x432 with 1 Axes>"
      ]
     },
     "metadata": {
      "needs_background": "light"
     },
     "output_type": "display_data"
    }
   ],
   "source": [
    "plt.figure(figsize=(10,6))\n",
    "plt.grid()\n",
    "plt.plot(grid.cv_results_['mean_test_score'])\n",
    "plt.title(\"Mean cross validation score with Decision Tree Classifier\")\n",
    "plt.plot(grid.best_index_,grid.best_score_,'ro')\n",
    "plt.xlabel(\"Parameter Combination\")\n",
    "plt.ylabel(\"Cross Validation Accuracy\")\n",
    "plt.show()"
   ]
  },
  {
   "cell_type": "code",
   "execution_count": 834,
   "metadata": {},
   "outputs": [],
   "source": [
    "Classifier = DecisionTreeClassifier(max_depth=grid.best_params_['max_depth'],min_samples_split=grid.best_params_['min_samples_split'])\n",
    "Classifier.fit(X_train,y_train)\n",
    "y_pred = Classifier.predict(X_test)"
   ]
  },
  {
   "cell_type": "code",
   "execution_count": 836,
   "metadata": {},
   "outputs": [],
   "source": [
    "y_pred_class = get_names(y_pred)\n",
    "Prediction = pd.DataFrame(columns=X.columns)\n",
    "Prediction['sepal-length'] = X_test[:,0]\n",
    "Prediction['sepal-width'] = X_test[:,1]\n",
    "Prediction['petal-length'] = X_test[:,2]\n",
    "Prediction['petal-width'] = X_test[:,3]\n",
    "Prediction['class'] = y_test_class\n",
    "Prediction['Prediction Class'] = y_pred_class"
   ]
  },
  {
   "cell_type": "code",
   "execution_count": 837,
   "metadata": {},
   "outputs": [
    {
     "name": "stdout",
     "output_type": "stream",
     "text": [
      "{'min_samples_split': 0.1, 'max_depth': 2}\n",
      "Accuracy of prediction:  0.9555555555555556\n",
      "Number of misclassifications:  2.0 \n",
      "\n"
     ]
    },
    {
     "data": {
      "text/html": [
       "<div>\n",
       "<style scoped>\n",
       "    .dataframe tbody tr th:only-of-type {\n",
       "        vertical-align: middle;\n",
       "    }\n",
       "\n",
       "    .dataframe tbody tr th {\n",
       "        vertical-align: top;\n",
       "    }\n",
       "\n",
       "    .dataframe thead th {\n",
       "        text-align: right;\n",
       "    }\n",
       "</style>\n",
       "<table border=\"1\" class=\"dataframe\">\n",
       "  <thead>\n",
       "    <tr style=\"text-align: right;\">\n",
       "      <th></th>\n",
       "      <th>sepal-length</th>\n",
       "      <th>sepal-width</th>\n",
       "      <th>petal-length</th>\n",
       "      <th>petal-width</th>\n",
       "      <th>class</th>\n",
       "      <th>Prediction Class</th>\n",
       "    </tr>\n",
       "  </thead>\n",
       "  <tbody>\n",
       "    <tr>\n",
       "      <th>24</th>\n",
       "      <td>6.1</td>\n",
       "      <td>3.0</td>\n",
       "      <td>4.9</td>\n",
       "      <td>1.8</td>\n",
       "      <td>Iris-Virginica</td>\n",
       "      <td>Iris-Virginica</td>\n",
       "    </tr>\n",
       "    <tr>\n",
       "      <th>0</th>\n",
       "      <td>7.7</td>\n",
       "      <td>3.8</td>\n",
       "      <td>6.7</td>\n",
       "      <td>2.2</td>\n",
       "      <td>Iris-Virginica</td>\n",
       "      <td>Iris-Virginica</td>\n",
       "    </tr>\n",
       "    <tr>\n",
       "      <th>23</th>\n",
       "      <td>5.8</td>\n",
       "      <td>2.8</td>\n",
       "      <td>5.1</td>\n",
       "      <td>2.4</td>\n",
       "      <td>Iris-Virginica</td>\n",
       "      <td>Iris-Virginica</td>\n",
       "    </tr>\n",
       "    <tr>\n",
       "      <th>2</th>\n",
       "      <td>6.3</td>\n",
       "      <td>2.5</td>\n",
       "      <td>5.0</td>\n",
       "      <td>1.9</td>\n",
       "      <td>Iris-Virginica</td>\n",
       "      <td>Iris-Virginica</td>\n",
       "    </tr>\n",
       "    <tr>\n",
       "      <th>20</th>\n",
       "      <td>4.8</td>\n",
       "      <td>3.0</td>\n",
       "      <td>1.4</td>\n",
       "      <td>0.3</td>\n",
       "      <td>Iris-Setosa</td>\n",
       "      <td>Iris-Setosa</td>\n",
       "    </tr>\n",
       "    <tr>\n",
       "      <th>25</th>\n",
       "      <td>4.9</td>\n",
       "      <td>3.1</td>\n",
       "      <td>1.5</td>\n",
       "      <td>0.1</td>\n",
       "      <td>Iris-Setosa</td>\n",
       "      <td>Iris-Setosa</td>\n",
       "    </tr>\n",
       "    <tr>\n",
       "      <th>19</th>\n",
       "      <td>6.4</td>\n",
       "      <td>2.8</td>\n",
       "      <td>5.6</td>\n",
       "      <td>2.2</td>\n",
       "      <td>Iris-Virginica</td>\n",
       "      <td>Iris-Virginica</td>\n",
       "    </tr>\n",
       "    <tr>\n",
       "      <th>36</th>\n",
       "      <td>5.6</td>\n",
       "      <td>2.5</td>\n",
       "      <td>3.9</td>\n",
       "      <td>1.1</td>\n",
       "      <td>Iris-Versicolour</td>\n",
       "      <td>Iris-Versicolour</td>\n",
       "    </tr>\n",
       "    <tr>\n",
       "      <th>14</th>\n",
       "      <td>7.7</td>\n",
       "      <td>3.0</td>\n",
       "      <td>6.1</td>\n",
       "      <td>2.3</td>\n",
       "      <td>Iris-Virginica</td>\n",
       "      <td>Iris-Virginica</td>\n",
       "    </tr>\n",
       "    <tr>\n",
       "      <th>6</th>\n",
       "      <td>5.5</td>\n",
       "      <td>2.4</td>\n",
       "      <td>3.7</td>\n",
       "      <td>1.0</td>\n",
       "      <td>Iris-Versicolour</td>\n",
       "      <td>Iris-Versicolour</td>\n",
       "    </tr>\n",
       "  </tbody>\n",
       "</table>\n",
       "</div>"
      ],
      "text/plain": [
       "    sepal-length  sepal-width  petal-length  petal-width             class  \\\n",
       "24           6.1          3.0           4.9          1.8    Iris-Virginica   \n",
       "0            7.7          3.8           6.7          2.2    Iris-Virginica   \n",
       "23           5.8          2.8           5.1          2.4    Iris-Virginica   \n",
       "2            6.3          2.5           5.0          1.9    Iris-Virginica   \n",
       "20           4.8          3.0           1.4          0.3       Iris-Setosa   \n",
       "25           4.9          3.1           1.5          0.1       Iris-Setosa   \n",
       "19           6.4          2.8           5.6          2.2    Iris-Virginica   \n",
       "36           5.6          2.5           3.9          1.1  Iris-Versicolour   \n",
       "14           7.7          3.0           6.1          2.3    Iris-Virginica   \n",
       "6            5.5          2.4           3.7          1.0  Iris-Versicolour   \n",
       "\n",
       "    Prediction Class  \n",
       "24    Iris-Virginica  \n",
       "0     Iris-Virginica  \n",
       "23    Iris-Virginica  \n",
       "2     Iris-Virginica  \n",
       "20       Iris-Setosa  \n",
       "25       Iris-Setosa  \n",
       "19    Iris-Virginica  \n",
       "36  Iris-Versicolour  \n",
       "14    Iris-Virginica  \n",
       "6   Iris-Versicolour  "
      ]
     },
     "execution_count": 837,
     "metadata": {},
     "output_type": "execute_result"
    }
   ],
   "source": [
    "print(grid.best_params_)\n",
    "print(\"Accuracy of prediction: \",accuracy(y_test,y_pred))\n",
    "print(\"Number of misclassifications: \", len(y_test) - (accuracy(y_test,y_pred) * len(y_test)),\"\\n\")\n",
    "Prediction.sample(10)"
   ]
  },
  {
   "cell_type": "code",
   "execution_count": 838,
   "metadata": {},
   "outputs": [
    {
     "data": {
      "image/png": "[encoded data removed]",
      "text/plain": [
       "<Figure size 720x432 with 1 Axes>"
      ]
     },
     "metadata": {
      "needs_background": "light"
     },
     "output_type": "display_data"
    }
   ],
   "source": [
    "plt.figure(figsize=(10,6))\n",
    "flag1 = True\n",
    "flag2 = True\n",
    "flag3 = True\n",
    "flag4 = True\n",
    "for i in Prediction.values:\n",
    "    if i[4] == 'Iris-Setosa':\n",
    "        if flag1:\n",
    "            plt.plot(i[2],i[3],'b+',label = 'Iris-Setosa')\n",
    "            flag1 = False\n",
    "        else:\n",
    "            plt.plot(i[2],i[3],'b+')\n",
    "\n",
    "    if i[4] == 'Iris-Versicolour':\n",
    "        if flag2:\n",
    "            plt.plot(i[2],i[3],'r+',label = 'Iris-Versicolour')\n",
    "            flag2 = False\n",
    "        else:\n",
    "            plt.plot(i[2],i[3],'r+')\n",
    "            \n",
    "    if i[4] == 'Iris-Virginica':\n",
    "        if flag3:\n",
    "            plt.plot(i[2],i[3],'g+',label = 'Iris-Virginica')\n",
    "            flag3 = False\n",
    "        else:\n",
    "            plt.plot(i[2],i[3],'g+')\n",
    "            \n",
    "    if i[4] != i[5]:\n",
    "        if flag4:\n",
    "            plt.plot(i[2],i[3],'mo',label = 'Misclassified')\n",
    "            flag4=False\n",
    "        else:\n",
    "            plt.plot(i[2],i[3],'mo')\n",
    "plt.legend()\n",
    "plt.title(\"Classification with best hyperparameter using Grid Search\")\n",
    "plt.xlabel(\"Petal length\")\n",
    "plt.ylabel(\"Petal width\")\n",
    "plt.show()"
   ]
  }
 ],
 "metadata": {
  "kernelspec": {
   "display_name": "Python 3",
   "language": "python",
   "name": "python3"
  },
  "language_info": {
   "codemirror_mode": {
    "name": "ipython",
    "version": 3
   },
   "file_extension": ".py",
   "mimetype": "text/x-python",
   "name": "python",
   "nbconvert_exporter": "python",
   "pygments_lexer": "ipython3",
   "version": "3.5.4"
  }
 },
 "nbformat": 4,
 "nbformat_minor": 2
}
